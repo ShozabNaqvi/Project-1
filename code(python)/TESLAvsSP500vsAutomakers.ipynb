{
 "cells": [
  {
   "cell_type": "code",
   "execution_count": 1,
   "metadata": {},
   "outputs": [],
   "source": [
    "import datetime as dt\n",
    "from pathlib import Path\n",
    "import seaborn as sns\n",
    "import os\n",
    "import requests\n",
    "import pandas as pd\n",
    "import yfinance as yf\n",
    "from dotenv import load_dotenv\n",
    "import alpaca_trade_api as tradeapi\n",
    "from MCForecastTools import MCSimulation\n",
    "%matplotlib inline"
   ]
  },
  {
   "cell_type": "code",
   "execution_count": 2,
   "metadata": {},
   "outputs": [
    {
     "data": {
      "text/html": [
       "<div>\n",
       "<style scoped>\n",
       "    .dataframe tbody tr th:only-of-type {\n",
       "        vertical-align: middle;\n",
       "    }\n",
       "\n",
       "    .dataframe tbody tr th {\n",
       "        vertical-align: top;\n",
       "    }\n",
       "\n",
       "    .dataframe thead th {\n",
       "        text-align: right;\n",
       "    }\n",
       "</style>\n",
       "<table border=\"1\" class=\"dataframe\">\n",
       "  <thead>\n",
       "    <tr style=\"text-align: right;\">\n",
       "      <th></th>\n",
       "      <th>TESLA</th>\n",
       "      <th>VOLKS</th>\n",
       "    </tr>\n",
       "    <tr>\n",
       "      <th>Date</th>\n",
       "      <th></th>\n",
       "      <th></th>\n",
       "    </tr>\n",
       "  </thead>\n",
       "  <tbody>\n",
       "    <tr>\n",
       "      <th>2020-11-02</th>\n",
       "      <td>400.510010</td>\n",
       "      <td>127.779999</td>\n",
       "    </tr>\n",
       "    <tr>\n",
       "      <th>2020-11-03</th>\n",
       "      <td>423.899994</td>\n",
       "      <td>131.740005</td>\n",
       "    </tr>\n",
       "    <tr>\n",
       "      <th>2020-11-04</th>\n",
       "      <td>420.980011</td>\n",
       "      <td>132.080002</td>\n",
       "    </tr>\n",
       "    <tr>\n",
       "      <th>2020-11-05</th>\n",
       "      <td>438.089996</td>\n",
       "      <td>135.919998</td>\n",
       "    </tr>\n",
       "    <tr>\n",
       "      <th>2020-11-06</th>\n",
       "      <td>429.950012</td>\n",
       "      <td>133.160004</td>\n",
       "    </tr>\n",
       "  </tbody>\n",
       "</table>\n",
       "</div>"
      ],
      "text/plain": [
       "                 TESLA       VOLKS\n",
       "Date                              \n",
       "2020-11-02  400.510010  127.779999\n",
       "2020-11-03  423.899994  131.740005\n",
       "2020-11-04  420.980011  132.080002\n",
       "2020-11-05  438.089996  135.919998\n",
       "2020-11-06  429.950012  133.160004"
      ]
     },
     "execution_count": 2,
     "metadata": {},
     "output_type": "execute_result"
    }
   ],
   "source": [
    "# Get historical data in YAHOO FINANCE HISTORICAL DATABASE\n",
    "tsla = yf.Ticker(\"TSLA\")\n",
    "volks = yf.Ticker(\"VOW3.DE\")\n",
    "tesla_hist = tsla.history(period=\"5y\")\n",
    "vow_hist = volks.history(period=\"5y\")\n",
    "# Create an empty DataFrame for TESLA AND VOLKS.DE closing prices\n",
    "t_v_closing_prices = pd.DataFrame()\n",
    "# Fetch the closing prices of TESLA AND VOLKS.DE\n",
    "t_v_closing_prices[\"TESLA\"] = tesla_hist[\"Close\"]\n",
    "t_v_closing_prices[\"VOLKS\"] = vow_hist[\"Close\"]\n",
    "t_v_closing_prices.tail()"
   ]
  },
  {
   "cell_type": "code",
   "execution_count": 3,
   "metadata": {},
   "outputs": [
    {
     "data": {
      "text/plain": [
       "True"
      ]
     },
     "execution_count": 3,
     "metadata": {},
     "output_type": "execute_result"
    }
   ],
   "source": [
    "load_dotenv()"
   ]
  },
  {
   "cell_type": "code",
   "execution_count": 4,
   "metadata": {},
   "outputs": [
    {
     "data": {
      "text/html": [
       "<div>\n",
       "<style scoped>\n",
       "    .dataframe tbody tr th:only-of-type {\n",
       "        vertical-align: middle;\n",
       "    }\n",
       "\n",
       "    .dataframe tbody tr th {\n",
       "        vertical-align: top;\n",
       "    }\n",
       "\n",
       "    .dataframe thead th {\n",
       "        text-align: right;\n",
       "    }\n",
       "</style>\n",
       "<table border=\"1\" class=\"dataframe\">\n",
       "  <thead>\n",
       "    <tr style=\"text-align: right;\">\n",
       "      <th></th>\n",
       "      <th>Open</th>\n",
       "      <th>High</th>\n",
       "      <th>Low</th>\n",
       "      <th>Close</th>\n",
       "      <th>Adj Close</th>\n",
       "      <th>Volume</th>\n",
       "    </tr>\n",
       "    <tr>\n",
       "      <th>Date</th>\n",
       "      <th></th>\n",
       "      <th></th>\n",
       "      <th></th>\n",
       "      <th></th>\n",
       "      <th></th>\n",
       "      <th></th>\n",
       "    </tr>\n",
       "  </thead>\n",
       "  <tbody>\n",
       "    <tr>\n",
       "      <th>2015-11-04</th>\n",
       "      <td>2110.600098</td>\n",
       "      <td>2114.590088</td>\n",
       "      <td>2096.979980</td>\n",
       "      <td>2102.310059</td>\n",
       "      <td>2102.310059</td>\n",
       "      <td>4078870000</td>\n",
       "    </tr>\n",
       "    <tr>\n",
       "      <th>2015-11-05</th>\n",
       "      <td>2101.679932</td>\n",
       "      <td>2108.780029</td>\n",
       "      <td>2090.409912</td>\n",
       "      <td>2099.929932</td>\n",
       "      <td>2099.929932</td>\n",
       "      <td>4051890000</td>\n",
       "    </tr>\n",
       "    <tr>\n",
       "      <th>2015-11-06</th>\n",
       "      <td>2098.600098</td>\n",
       "      <td>2101.909912</td>\n",
       "      <td>2083.739990</td>\n",
       "      <td>2099.199951</td>\n",
       "      <td>2099.199951</td>\n",
       "      <td>4369020000</td>\n",
       "    </tr>\n",
       "    <tr>\n",
       "      <th>2015-11-09</th>\n",
       "      <td>2096.560059</td>\n",
       "      <td>2096.560059</td>\n",
       "      <td>2068.239990</td>\n",
       "      <td>2078.580078</td>\n",
       "      <td>2078.580078</td>\n",
       "      <td>3882350000</td>\n",
       "    </tr>\n",
       "    <tr>\n",
       "      <th>2015-11-10</th>\n",
       "      <td>2077.189941</td>\n",
       "      <td>2083.669922</td>\n",
       "      <td>2069.909912</td>\n",
       "      <td>2081.719971</td>\n",
       "      <td>2081.719971</td>\n",
       "      <td>3821440000</td>\n",
       "    </tr>\n",
       "  </tbody>\n",
       "</table>\n",
       "</div>"
      ],
      "text/plain": [
       "                   Open         High          Low        Close    Adj Close  \\\n",
       "Date                                                                          \n",
       "2015-11-04  2110.600098  2114.590088  2096.979980  2102.310059  2102.310059   \n",
       "2015-11-05  2101.679932  2108.780029  2090.409912  2099.929932  2099.929932   \n",
       "2015-11-06  2098.600098  2101.909912  2083.739990  2099.199951  2099.199951   \n",
       "2015-11-09  2096.560059  2096.560059  2068.239990  2078.580078  2078.580078   \n",
       "2015-11-10  2077.189941  2083.669922  2069.909912  2081.719971  2081.719971   \n",
       "\n",
       "                Volume  \n",
       "Date                    \n",
       "2015-11-04  4078870000  \n",
       "2015-11-05  4051890000  \n",
       "2015-11-06  4369020000  \n",
       "2015-11-09  3882350000  \n",
       "2015-11-10  3821440000  "
      ]
     },
     "execution_count": 4,
     "metadata": {},
     "output_type": "execute_result"
    }
   ],
   "source": [
    "# Open S&P 500 historical prices\n",
    "file_path = Path(\"Resources\\S&P500_5years.csv\")\n",
    "sp500 = pd.read_csv(file_path, parse_dates=True, index_col=\"Date\", infer_datetime_format=True)\n",
    "sp500.head()"
   ]
  },
  {
   "cell_type": "code",
   "execution_count": 5,
   "metadata": {},
   "outputs": [
    {
     "data": {
      "text/html": [
       "<div>\n",
       "<style scoped>\n",
       "    .dataframe tbody tr th:only-of-type {\n",
       "        vertical-align: middle;\n",
       "    }\n",
       "\n",
       "    .dataframe tbody tr th {\n",
       "        vertical-align: top;\n",
       "    }\n",
       "\n",
       "    .dataframe thead th {\n",
       "        text-align: right;\n",
       "    }\n",
       "</style>\n",
       "<table border=\"1\" class=\"dataframe\">\n",
       "  <thead>\n",
       "    <tr style=\"text-align: right;\">\n",
       "      <th></th>\n",
       "      <th>S&amp;P500</th>\n",
       "    </tr>\n",
       "    <tr>\n",
       "      <th>Date</th>\n",
       "      <th></th>\n",
       "    </tr>\n",
       "  </thead>\n",
       "  <tbody>\n",
       "    <tr>\n",
       "      <th>2015-11-04</th>\n",
       "      <td>2102.310059</td>\n",
       "    </tr>\n",
       "    <tr>\n",
       "      <th>2015-11-05</th>\n",
       "      <td>2099.929932</td>\n",
       "    </tr>\n",
       "    <tr>\n",
       "      <th>2015-11-06</th>\n",
       "      <td>2099.199951</td>\n",
       "    </tr>\n",
       "    <tr>\n",
       "      <th>2015-11-09</th>\n",
       "      <td>2078.580078</td>\n",
       "    </tr>\n",
       "    <tr>\n",
       "      <th>2015-11-10</th>\n",
       "      <td>2081.719971</td>\n",
       "    </tr>\n",
       "    <tr>\n",
       "      <th>...</th>\n",
       "      <td>...</td>\n",
       "    </tr>\n",
       "    <tr>\n",
       "      <th>2020-10-28</th>\n",
       "      <td>3271.030029</td>\n",
       "    </tr>\n",
       "    <tr>\n",
       "      <th>2020-10-29</th>\n",
       "      <td>3310.110107</td>\n",
       "    </tr>\n",
       "    <tr>\n",
       "      <th>2020-10-30</th>\n",
       "      <td>3269.959961</td>\n",
       "    </tr>\n",
       "    <tr>\n",
       "      <th>2020-11-02</th>\n",
       "      <td>3310.239990</td>\n",
       "    </tr>\n",
       "    <tr>\n",
       "      <th>2020-11-03</th>\n",
       "      <td>3369.159912</td>\n",
       "    </tr>\n",
       "  </tbody>\n",
       "</table>\n",
       "<p>1259 rows × 1 columns</p>\n",
       "</div>"
      ],
      "text/plain": [
       "                 S&P500\n",
       "Date                   \n",
       "2015-11-04  2102.310059\n",
       "2015-11-05  2099.929932\n",
       "2015-11-06  2099.199951\n",
       "2015-11-09  2078.580078\n",
       "2015-11-10  2081.719971\n",
       "...                 ...\n",
       "2020-10-28  3271.030029\n",
       "2020-10-29  3310.110107\n",
       "2020-10-30  3269.959961\n",
       "2020-11-02  3310.239990\n",
       "2020-11-03  3369.159912\n",
       "\n",
       "[1259 rows x 1 columns]"
      ]
     },
     "execution_count": 5,
     "metadata": {},
     "output_type": "execute_result"
    }
   ],
   "source": [
    "# Fetch the closing prices of S&P500\n",
    "sp500_closing_prices = pd.DataFrame()\n",
    "sp500_closing_prices[\"S&P500\"] = sp500[\"Close\"]\n",
    "sp500_closing_prices"
   ]
  },
  {
   "cell_type": "code",
   "execution_count": 6,
   "metadata": {},
   "outputs": [
    {
     "data": {
      "text/plain": [
       "S&P500    0\n",
       "dtype: int64"
      ]
     },
     "execution_count": 6,
     "metadata": {},
     "output_type": "execute_result"
    }
   ],
   "source": [
    "#check null and cleaning data\n",
    "sp500_closing_prices.isnull().sum()"
   ]
  },
  {
   "cell_type": "code",
   "execution_count": 7,
   "metadata": {},
   "outputs": [],
   "source": [
    "###Set Alpaca API key and secret\n",
    "alpaca_api_key = os.getenv(\"api_key_id\")\n",
    "alpaca_secret_key = os.getenv(\"secret_api_key\")\n",
    "###Create the Alpaca API object\n",
    "alpaca = tradeapi.REST(\n",
    "    alpaca_api_key,\n",
    "    alpaca_secret_key,\n",
    "    api_version=\"v2\")"
   ]
  },
  {
   "cell_type": "code",
   "execution_count": 8,
   "metadata": {},
   "outputs": [
    {
     "data": {
      "text/html": [
       "<div>\n",
       "<style scoped>\n",
       "    .dataframe tbody tr th:only-of-type {\n",
       "        vertical-align: middle;\n",
       "    }\n",
       "\n",
       "    .dataframe tbody tr th {\n",
       "        vertical-align: top;\n",
       "    }\n",
       "\n",
       "    .dataframe thead th {\n",
       "        text-align: right;\n",
       "    }\n",
       "</style>\n",
       "<table border=\"1\" class=\"dataframe\">\n",
       "  <thead>\n",
       "    <tr style=\"text-align: right;\">\n",
       "      <th></th>\n",
       "      <th>GM</th>\n",
       "      <th>TOYOTA</th>\n",
       "      <th>FORD</th>\n",
       "    </tr>\n",
       "  </thead>\n",
       "  <tbody>\n",
       "    <tr>\n",
       "      <th>2020-10-21</th>\n",
       "      <td>35.77</td>\n",
       "      <td>133.14</td>\n",
       "      <td>7.8400</td>\n",
       "    </tr>\n",
       "    <tr>\n",
       "      <th>2020-10-22</th>\n",
       "      <td>37.42</td>\n",
       "      <td>133.29</td>\n",
       "      <td>8.2200</td>\n",
       "    </tr>\n",
       "    <tr>\n",
       "      <th>2020-10-23</th>\n",
       "      <td>36.83</td>\n",
       "      <td>133.33</td>\n",
       "      <td>8.1700</td>\n",
       "    </tr>\n",
       "    <tr>\n",
       "      <th>2020-10-26</th>\n",
       "      <td>35.84</td>\n",
       "      <td>132.70</td>\n",
       "      <td>8.0300</td>\n",
       "    </tr>\n",
       "    <tr>\n",
       "      <th>2020-10-27</th>\n",
       "      <td>34.89</td>\n",
       "      <td>132.46</td>\n",
       "      <td>7.9200</td>\n",
       "    </tr>\n",
       "    <tr>\n",
       "      <th>2020-10-28</th>\n",
       "      <td>34.10</td>\n",
       "      <td>130.07</td>\n",
       "      <td>7.7200</td>\n",
       "    </tr>\n",
       "    <tr>\n",
       "      <th>2020-10-29</th>\n",
       "      <td>34.88</td>\n",
       "      <td>131.45</td>\n",
       "      <td>7.9000</td>\n",
       "    </tr>\n",
       "    <tr>\n",
       "      <th>2020-10-30</th>\n",
       "      <td>34.53</td>\n",
       "      <td>131.23</td>\n",
       "      <td>7.7246</td>\n",
       "    </tr>\n",
       "    <tr>\n",
       "      <th>2020-11-02</th>\n",
       "      <td>34.55</td>\n",
       "      <td>133.28</td>\n",
       "      <td>7.7100</td>\n",
       "    </tr>\n",
       "    <tr>\n",
       "      <th>2020-11-03</th>\n",
       "      <td>35.34</td>\n",
       "      <td>135.76</td>\n",
       "      <td>7.8850</td>\n",
       "    </tr>\n",
       "  </tbody>\n",
       "</table>\n",
       "</div>"
      ],
      "text/plain": [
       "               GM  TOYOTA    FORD\n",
       "2020-10-21  35.77  133.14  7.8400\n",
       "2020-10-22  37.42  133.29  8.2200\n",
       "2020-10-23  36.83  133.33  8.1700\n",
       "2020-10-26  35.84  132.70  8.0300\n",
       "2020-10-27  34.89  132.46  7.9200\n",
       "2020-10-28  34.10  130.07  7.7200\n",
       "2020-10-29  34.88  131.45  7.9000\n",
       "2020-10-30  34.53  131.23  7.7246\n",
       "2020-11-02  34.55  133.28  7.7100\n",
       "2020-11-03  35.34  135.76  7.8850"
      ]
     },
     "execution_count": 8,
     "metadata": {},
     "output_type": "execute_result"
    }
   ],
   "source": [
    "###Set the tickers\n",
    "tickers = [\"GM\", \"TM\", \"F\"]\n",
    "###Set timeframe to '1D' for Alpaca API\n",
    "timeframe = \"1D\"\n",
    "# Set start and end datetimes \n",
    "start_date = pd.Timestamp(\"2015-01-01\", tz=\"America/New_York\").isoformat()\n",
    "end_date = pd.Timestamp(\"2020-11-03\", tz=\"America/New_York\").isoformat()\n",
    "\n",
    "# Get historical data \n",
    "f_ticker = alpaca.get_barset(\n",
    "    tickers,\n",
    "    timeframe,\n",
    "    start=start_date,\n",
    "    end=end_date\n",
    ").df\n",
    "\n",
    "# Create an empty DataFrame for TICKER closing prices\n",
    "portfolio_closing_prices = pd.DataFrame()\n",
    "# Fetch the closing prices of TICKER\n",
    "portfolio_closing_prices[\"GM\"] = f_ticker[\"GM\"][\"close\"]\n",
    "portfolio_closing_prices[\"TOYOTA\"] = f_ticker[\"TM\"][\"close\"]\n",
    "portfolio_closing_prices[\"FORD\"] = f_ticker[\"F\"][\"close\"]\n",
    "\n",
    "# Drop the time component of the date\n",
    "portfolio_closing_prices.index = portfolio_closing_prices.index.date\n",
    "# Display sample data\n",
    "portfolio_closing_prices.tail(10)"
   ]
  },
  {
   "cell_type": "code",
   "execution_count": 9,
   "metadata": {},
   "outputs": [
    {
     "data": {
      "text/html": [
       "<div>\n",
       "<style scoped>\n",
       "    .dataframe tbody tr th:only-of-type {\n",
       "        vertical-align: middle;\n",
       "    }\n",
       "\n",
       "    .dataframe tbody tr th {\n",
       "        vertical-align: top;\n",
       "    }\n",
       "\n",
       "    .dataframe thead th {\n",
       "        text-align: right;\n",
       "    }\n",
       "</style>\n",
       "<table border=\"1\" class=\"dataframe\">\n",
       "  <thead>\n",
       "    <tr style=\"text-align: right;\">\n",
       "      <th></th>\n",
       "      <th>GM</th>\n",
       "      <th>TOYOTA</th>\n",
       "      <th>FORD</th>\n",
       "      <th>TESLA</th>\n",
       "      <th>VOLKS</th>\n",
       "      <th>S&amp;P500</th>\n",
       "    </tr>\n",
       "  </thead>\n",
       "  <tbody>\n",
       "    <tr>\n",
       "      <th>2015-11-09</th>\n",
       "      <td>35.67</td>\n",
       "      <td>122.2200</td>\n",
       "      <td>14.34</td>\n",
       "      <td>45.066002</td>\n",
       "      <td>84.294083</td>\n",
       "      <td>2078.580078</td>\n",
       "    </tr>\n",
       "    <tr>\n",
       "      <th>2015-11-10</th>\n",
       "      <td>35.62</td>\n",
       "      <td>123.5500</td>\n",
       "      <td>14.28</td>\n",
       "      <td>43.299999</td>\n",
       "      <td>83.925301</td>\n",
       "      <td>2081.719971</td>\n",
       "    </tr>\n",
       "    <tr>\n",
       "      <th>2015-11-11</th>\n",
       "      <td>35.54</td>\n",
       "      <td>123.2600</td>\n",
       "      <td>14.32</td>\n",
       "      <td>43.816002</td>\n",
       "      <td>84.443352</td>\n",
       "      <td>2075.000000</td>\n",
       "    </tr>\n",
       "    <tr>\n",
       "      <th>2015-11-12</th>\n",
       "      <td>35.08</td>\n",
       "      <td>121.7300</td>\n",
       "      <td>14.04</td>\n",
       "      <td>42.588001</td>\n",
       "      <td>83.758453</td>\n",
       "      <td>2045.969971</td>\n",
       "    </tr>\n",
       "    <tr>\n",
       "      <th>2015-11-13</th>\n",
       "      <td>34.30</td>\n",
       "      <td>121.3100</td>\n",
       "      <td>13.91</td>\n",
       "      <td>41.438000</td>\n",
       "      <td>84.601402</td>\n",
       "      <td>2023.040039</td>\n",
       "    </tr>\n",
       "    <tr>\n",
       "      <th>2015-11-16</th>\n",
       "      <td>35.17</td>\n",
       "      <td>122.0500</td>\n",
       "      <td>14.04</td>\n",
       "      <td>42.862000</td>\n",
       "      <td>85.576050</td>\n",
       "      <td>2053.189941</td>\n",
       "    </tr>\n",
       "    <tr>\n",
       "      <th>2015-11-17</th>\n",
       "      <td>35.21</td>\n",
       "      <td>123.1700</td>\n",
       "      <td>14.14</td>\n",
       "      <td>42.799999</td>\n",
       "      <td>86.612160</td>\n",
       "      <td>2050.439941</td>\n",
       "    </tr>\n",
       "    <tr>\n",
       "      <th>2015-11-18</th>\n",
       "      <td>36.47</td>\n",
       "      <td>124.9000</td>\n",
       "      <td>14.46</td>\n",
       "      <td>44.214001</td>\n",
       "      <td>89.035622</td>\n",
       "      <td>2083.580078</td>\n",
       "    </tr>\n",
       "    <tr>\n",
       "      <th>2015-11-19</th>\n",
       "      <td>36.14</td>\n",
       "      <td>123.9100</td>\n",
       "      <td>14.57</td>\n",
       "      <td>44.360001</td>\n",
       "      <td>92.943001</td>\n",
       "      <td>2081.239990</td>\n",
       "    </tr>\n",
       "    <tr>\n",
       "      <th>2015-11-20</th>\n",
       "      <td>36.34</td>\n",
       "      <td>123.6799</td>\n",
       "      <td>14.60</td>\n",
       "      <td>44.001999</td>\n",
       "      <td>95.225975</td>\n",
       "      <td>2089.169922</td>\n",
       "    </tr>\n",
       "  </tbody>\n",
       "</table>\n",
       "</div>"
      ],
      "text/plain": [
       "               GM    TOYOTA   FORD      TESLA      VOLKS       S&P500\n",
       "2015-11-09  35.67  122.2200  14.34  45.066002  84.294083  2078.580078\n",
       "2015-11-10  35.62  123.5500  14.28  43.299999  83.925301  2081.719971\n",
       "2015-11-11  35.54  123.2600  14.32  43.816002  84.443352  2075.000000\n",
       "2015-11-12  35.08  121.7300  14.04  42.588001  83.758453  2045.969971\n",
       "2015-11-13  34.30  121.3100  13.91  41.438000  84.601402  2023.040039\n",
       "2015-11-16  35.17  122.0500  14.04  42.862000  85.576050  2053.189941\n",
       "2015-11-17  35.21  123.1700  14.14  42.799999  86.612160  2050.439941\n",
       "2015-11-18  36.47  124.9000  14.46  44.214001  89.035622  2083.580078\n",
       "2015-11-19  36.14  123.9100  14.57  44.360001  92.943001  2081.239990\n",
       "2015-11-20  36.34  123.6799  14.60  44.001999  95.225975  2089.169922"
      ]
     },
     "execution_count": 9,
     "metadata": {},
     "output_type": "execute_result"
    }
   ],
   "source": [
    "#Concatenate STOCKS & INDEX\n",
    "all_closing_prices = pd.concat([portfolio_closing_prices,t_v_closing_prices, sp500_closing_prices], axis=\"columns\", join=\"inner\")\n",
    "all_closing_prices.head(10)"
   ]
  },
  {
   "cell_type": "code",
   "execution_count": 10,
   "metadata": {},
   "outputs": [
    {
     "data": {
      "text/html": [
       "<div>\n",
       "<style scoped>\n",
       "    .dataframe tbody tr th:only-of-type {\n",
       "        vertical-align: middle;\n",
       "    }\n",
       "\n",
       "    .dataframe tbody tr th {\n",
       "        vertical-align: top;\n",
       "    }\n",
       "\n",
       "    .dataframe thead th {\n",
       "        text-align: right;\n",
       "    }\n",
       "</style>\n",
       "<table border=\"1\" class=\"dataframe\">\n",
       "  <thead>\n",
       "    <tr style=\"text-align: right;\">\n",
       "      <th></th>\n",
       "      <th>GM</th>\n",
       "      <th>TOYOTA</th>\n",
       "      <th>FORD</th>\n",
       "      <th>TESLA</th>\n",
       "      <th>VOLKS</th>\n",
       "      <th>S&amp;P500</th>\n",
       "    </tr>\n",
       "  </thead>\n",
       "  <tbody>\n",
       "    <tr>\n",
       "      <th>2015-11-10</th>\n",
       "      <td>-0.001402</td>\n",
       "      <td>0.010882</td>\n",
       "      <td>-0.004184</td>\n",
       "      <td>-0.039187</td>\n",
       "      <td>-0.004375</td>\n",
       "      <td>0.001511</td>\n",
       "    </tr>\n",
       "    <tr>\n",
       "      <th>2015-11-11</th>\n",
       "      <td>-0.002246</td>\n",
       "      <td>-0.002347</td>\n",
       "      <td>0.002801</td>\n",
       "      <td>0.011917</td>\n",
       "      <td>0.006173</td>\n",
       "      <td>-0.003228</td>\n",
       "    </tr>\n",
       "    <tr>\n",
       "      <th>2015-11-12</th>\n",
       "      <td>-0.012943</td>\n",
       "      <td>-0.012413</td>\n",
       "      <td>-0.019553</td>\n",
       "      <td>-0.028026</td>\n",
       "      <td>-0.008111</td>\n",
       "      <td>-0.013990</td>\n",
       "    </tr>\n",
       "    <tr>\n",
       "      <th>2015-11-13</th>\n",
       "      <td>-0.022235</td>\n",
       "      <td>-0.003450</td>\n",
       "      <td>-0.009259</td>\n",
       "      <td>-0.027003</td>\n",
       "      <td>0.010064</td>\n",
       "      <td>-0.011207</td>\n",
       "    </tr>\n",
       "    <tr>\n",
       "      <th>2015-11-16</th>\n",
       "      <td>0.025364</td>\n",
       "      <td>0.006100</td>\n",
       "      <td>0.009346</td>\n",
       "      <td>0.034365</td>\n",
       "      <td>0.011520</td>\n",
       "      <td>0.014903</td>\n",
       "    </tr>\n",
       "    <tr>\n",
       "      <th>2015-11-17</th>\n",
       "      <td>0.001137</td>\n",
       "      <td>0.009177</td>\n",
       "      <td>0.007123</td>\n",
       "      <td>-0.001447</td>\n",
       "      <td>0.012107</td>\n",
       "      <td>-0.001339</td>\n",
       "    </tr>\n",
       "    <tr>\n",
       "      <th>2015-11-18</th>\n",
       "      <td>0.035785</td>\n",
       "      <td>0.014046</td>\n",
       "      <td>0.022631</td>\n",
       "      <td>0.033037</td>\n",
       "      <td>0.027981</td>\n",
       "      <td>0.016162</td>\n",
       "    </tr>\n",
       "    <tr>\n",
       "      <th>2015-11-19</th>\n",
       "      <td>-0.009049</td>\n",
       "      <td>-0.007926</td>\n",
       "      <td>0.007607</td>\n",
       "      <td>0.003302</td>\n",
       "      <td>0.043886</td>\n",
       "      <td>-0.001123</td>\n",
       "    </tr>\n",
       "    <tr>\n",
       "      <th>2015-11-20</th>\n",
       "      <td>0.005534</td>\n",
       "      <td>-0.001857</td>\n",
       "      <td>0.002059</td>\n",
       "      <td>-0.008070</td>\n",
       "      <td>0.024563</td>\n",
       "      <td>0.003810</td>\n",
       "    </tr>\n",
       "    <tr>\n",
       "      <th>2015-11-23</th>\n",
       "      <td>-0.007155</td>\n",
       "      <td>-0.004689</td>\n",
       "      <td>-0.002740</td>\n",
       "      <td>-0.010272</td>\n",
       "      <td>0.013370</td>\n",
       "      <td>-0.001235</td>\n",
       "    </tr>\n",
       "  </tbody>\n",
       "</table>\n",
       "</div>"
      ],
      "text/plain": [
       "                  GM    TOYOTA      FORD     TESLA     VOLKS    S&P500\n",
       "2015-11-10 -0.001402  0.010882 -0.004184 -0.039187 -0.004375  0.001511\n",
       "2015-11-11 -0.002246 -0.002347  0.002801  0.011917  0.006173 -0.003228\n",
       "2015-11-12 -0.012943 -0.012413 -0.019553 -0.028026 -0.008111 -0.013990\n",
       "2015-11-13 -0.022235 -0.003450 -0.009259 -0.027003  0.010064 -0.011207\n",
       "2015-11-16  0.025364  0.006100  0.009346  0.034365  0.011520  0.014903\n",
       "2015-11-17  0.001137  0.009177  0.007123 -0.001447  0.012107 -0.001339\n",
       "2015-11-18  0.035785  0.014046  0.022631  0.033037  0.027981  0.016162\n",
       "2015-11-19 -0.009049 -0.007926  0.007607  0.003302  0.043886 -0.001123\n",
       "2015-11-20  0.005534 -0.001857  0.002059 -0.008070  0.024563  0.003810\n",
       "2015-11-23 -0.007155 -0.004689 -0.002740 -0.010272  0.013370 -0.001235"
      ]
     },
     "execution_count": 10,
     "metadata": {},
     "output_type": "execute_result"
    }
   ],
   "source": [
    "# Compute daily returns\n",
    "df_daily_returns = all_closing_prices.pct_change().dropna()\n",
    "\n",
    "# Display sample data\n",
    "df_daily_returns.head(10)"
   ]
  },
  {
   "cell_type": "code",
   "execution_count": 11,
   "metadata": {},
   "outputs": [
    {
     "data": {
      "text/plain": [
       "<matplotlib.axes._subplots.AxesSubplot at 0x1a2273eedc0>"
      ]
     },
     "execution_count": 11,
     "metadata": {},
     "output_type": "execute_result"
    },
    {
     "data": {
      "image/png": "[encoded data removed]",
      "text/plain": [
       "<Figure size 720x360 with 1 Axes>"
      ]
     },
     "metadata": {
      "needs_background": "light"
     },
     "output_type": "display_data"
    }
   ],
   "source": [
    "df_daily_returns.plot(figsize=(10,5))"
   ]
  },
  {
   "cell_type": "code",
   "execution_count": 12,
   "metadata": {},
   "outputs": [
    {
     "data": {
      "text/plain": [
       "<matplotlib.axes._subplots.AxesSubplot at 0x1a22766ceb0>"
      ]
     },
     "execution_count": 12,
     "metadata": {},
     "output_type": "execute_result"
    },
    {
     "data": {
      "image/png": "[encoded data removed]",
      "text/plain": [
       "<Figure size 720x360 with 1 Axes>"
      ]
     },
     "metadata": {
      "needs_background": "light"
     },
     "output_type": "display_data"
    }
   ],
   "source": [
    "df_cumulative = (1 + df_daily_returns).cumprod()\n",
    "df_cumulative.plot(figsize=(10,5), title=\"Cumulative daily return over 5 years\")"
   ]
  },
  {
   "cell_type": "code",
   "execution_count": 13,
   "metadata": {},
   "outputs": [
    {
     "data": {
      "image/png": "[encoded data removed]",
      "text/plain": [
       "<Figure size 720x360 with 1 Axes>"
      ]
     },
     "metadata": {
      "needs_background": "light"
     },
     "output_type": "display_data"
    }
   ],
   "source": [
    "df_cumulative.plot(figsize=(10,5), title=\"Cumulative daily return over 5 years\").get_figure().savefig('cum_5y.png')"
   ]
  },
  {
   "cell_type": "code",
   "execution_count": 14,
   "metadata": {},
   "outputs": [
    {
     "data": {
      "text/plain": [
       "<matplotlib.axes._subplots.AxesSubplot at 0x1a2275395e0>"
      ]
     },
     "execution_count": 14,
     "metadata": {},
     "output_type": "execute_result"
    },
    {
     "data": {
      "image/png": "[encoded data removed]",
      "text/plain": [
       "<Figure size 1440x720 with 1 Axes>"
      ]
     },
     "metadata": {
      "needs_background": "light"
     },
     "output_type": "display_data"
    }
   ],
   "source": [
    "df_cumulative.plot.box(figsize=(20,10))"
   ]
  },
  {
   "cell_type": "code",
   "execution_count": 15,
   "metadata": {},
   "outputs": [
    {
     "data": {
      "text/html": [
       "<div>\n",
       "<style scoped>\n",
       "    .dataframe tbody tr th:only-of-type {\n",
       "        vertical-align: middle;\n",
       "    }\n",
       "\n",
       "    .dataframe tbody tr th {\n",
       "        vertical-align: top;\n",
       "    }\n",
       "\n",
       "    .dataframe thead th {\n",
       "        text-align: right;\n",
       "    }\n",
       "</style>\n",
       "<table border=\"1\" class=\"dataframe\">\n",
       "  <thead>\n",
       "    <tr style=\"text-align: right;\">\n",
       "      <th></th>\n",
       "      <th>GM</th>\n",
       "      <th>TOYOTA</th>\n",
       "      <th>FORD</th>\n",
       "      <th>TESLA</th>\n",
       "      <th>VOLKS</th>\n",
       "      <th>S&amp;P500</th>\n",
       "    </tr>\n",
       "  </thead>\n",
       "  <tbody>\n",
       "    <tr>\n",
       "      <th>count</th>\n",
       "      <td>1255.000000</td>\n",
       "      <td>1255.000000</td>\n",
       "      <td>1255.000000</td>\n",
       "      <td>1255.000000</td>\n",
       "      <td>1255.000000</td>\n",
       "      <td>1255.000000</td>\n",
       "    </tr>\n",
       "    <tr>\n",
       "      <th>mean</th>\n",
       "      <td>0.000241</td>\n",
       "      <td>0.000165</td>\n",
       "      <td>-0.000257</td>\n",
       "      <td>0.002434</td>\n",
       "      <td>0.000601</td>\n",
       "      <td>0.000459</td>\n",
       "    </tr>\n",
       "    <tr>\n",
       "      <th>std</th>\n",
       "      <td>0.022290</td>\n",
       "      <td>0.012771</td>\n",
       "      <td>0.021049</td>\n",
       "      <td>0.036013</td>\n",
       "      <td>0.022150</td>\n",
       "      <td>0.012171</td>\n",
       "    </tr>\n",
       "    <tr>\n",
       "      <th>min</th>\n",
       "      <td>-0.156004</td>\n",
       "      <td>-0.086259</td>\n",
       "      <td>-0.111901</td>\n",
       "      <td>-0.210628</td>\n",
       "      <td>-0.152115</td>\n",
       "      <td>-0.119841</td>\n",
       "    </tr>\n",
       "    <tr>\n",
       "      <th>25%</th>\n",
       "      <td>-0.009262</td>\n",
       "      <td>-0.005895</td>\n",
       "      <td>-0.009486</td>\n",
       "      <td>-0.014049</td>\n",
       "      <td>-0.009776</td>\n",
       "      <td>-0.002999</td>\n",
       "    </tr>\n",
       "    <tr>\n",
       "      <th>50%</th>\n",
       "      <td>0.000661</td>\n",
       "      <td>0.000186</td>\n",
       "      <td>0.000000</td>\n",
       "      <td>0.001261</td>\n",
       "      <td>0.000000</td>\n",
       "      <td>0.000688</td>\n",
       "    </tr>\n",
       "    <tr>\n",
       "      <th>75%</th>\n",
       "      <td>0.009612</td>\n",
       "      <td>0.006824</td>\n",
       "      <td>0.008879</td>\n",
       "      <td>0.018495</td>\n",
       "      <td>0.010980</td>\n",
       "      <td>0.005224</td>\n",
       "    </tr>\n",
       "    <tr>\n",
       "      <th>max</th>\n",
       "      <td>0.198751</td>\n",
       "      <td>0.095760</td>\n",
       "      <td>0.229927</td>\n",
       "      <td>0.198949</td>\n",
       "      <td>0.190461</td>\n",
       "      <td>0.093828</td>\n",
       "    </tr>\n",
       "  </tbody>\n",
       "</table>\n",
       "</div>"
      ],
      "text/plain": [
       "                GM       TOYOTA         FORD        TESLA        VOLKS  \\\n",
       "count  1255.000000  1255.000000  1255.000000  1255.000000  1255.000000   \n",
       "mean      0.000241     0.000165    -0.000257     0.002434     0.000601   \n",
       "std       0.022290     0.012771     0.021049     0.036013     0.022150   \n",
       "min      -0.156004    -0.086259    -0.111901    -0.210628    -0.152115   \n",
       "25%      -0.009262    -0.005895    -0.009486    -0.014049    -0.009776   \n",
       "50%       0.000661     0.000186     0.000000     0.001261     0.000000   \n",
       "75%       0.009612     0.006824     0.008879     0.018495     0.010980   \n",
       "max       0.198751     0.095760     0.229927     0.198949     0.190461   \n",
       "\n",
       "            S&P500  \n",
       "count  1255.000000  \n",
       "mean      0.000459  \n",
       "std       0.012171  \n",
       "min      -0.119841  \n",
       "25%      -0.002999  \n",
       "50%       0.000688  \n",
       "75%       0.005224  \n",
       "max       0.093828  "
      ]
     },
     "execution_count": 15,
     "metadata": {},
     "output_type": "execute_result"
    }
   ],
   "source": [
    "df_daily_returns.describe()"
   ]
  },
  {
   "cell_type": "code",
   "execution_count": 16,
   "metadata": {},
   "outputs": [
    {
     "name": "stdout",
     "output_type": "stream",
     "text": [
      "TESLA covariance returns vs S&P500 is: 0.0001891318155937763\n"
     ]
    }
   ],
   "source": [
    "###Calculate and plot beta of TESLA and the S&P500.\n",
    "###Calculate covariance of TESLA\n",
    "covariance_tesla = df_daily_returns['TESLA'].cov(df_daily_returns['S&P500'])\n",
    "print(f'TESLA covariance returns vs S&P500 is: {covariance_tesla}')"
   ]
  },
  {
   "cell_type": "code",
   "execution_count": 17,
   "metadata": {},
   "outputs": [
    {
     "name": "stdout",
     "output_type": "stream",
     "text": [
      "Variance of S&P500 is : 0.00014813264676955752\n"
     ]
    }
   ],
   "source": [
    "###Calculate variance of S&P500\n",
    "variance_tesla = df_daily_returns['S&P500'].var()\n",
    "print(f\"Variance of S&P500 is : {variance_tesla}\")"
   ]
  },
  {
   "cell_type": "code",
   "execution_count": 18,
   "metadata": {},
   "outputs": [
    {
     "name": "stdout",
     "output_type": "stream",
     "text": [
      "Beta of TESLA is: 1.2767733495506841\n"
     ]
    }
   ],
   "source": [
    "###Calculating beta of Algo 1\n",
    "###Plot beta trend\n",
    "beta_tesla = covariance_tesla / variance_tesla\n",
    "print(f'Beta of TESLA is: {beta_tesla}')"
   ]
  },
  {
   "cell_type": "code",
   "execution_count": 19,
   "metadata": {},
   "outputs": [
    {
     "data": {
      "text/plain": [
       "<seaborn.axisgrid.FacetGrid at 0x1a227df0a60>"
      ]
     },
     "execution_count": 19,
     "metadata": {},
     "output_type": "execute_result"
    },
    {
     "data": {
      "image/png": "[encoded data removed]",
      "text/plain": [
       "<Figure size 540x360 with 1 Axes>"
      ]
     },
     "metadata": {
      "needs_background": "light"
     },
     "output_type": "display_data"
    }
   ],
   "source": [
    "sns.lmplot(x=\"S&P500\", y=\"TESLA\", data=df_daily_returns, aspect=1.5, fit_reg=True)"
   ]
  },
  {
   "cell_type": "code",
   "execution_count": 20,
   "metadata": {},
   "outputs": [
    {
     "data": {
      "text/html": [
       "<div>\n",
       "<style scoped>\n",
       "    .dataframe tbody tr th:only-of-type {\n",
       "        vertical-align: middle;\n",
       "    }\n",
       "\n",
       "    .dataframe tbody tr th {\n",
       "        vertical-align: top;\n",
       "    }\n",
       "\n",
       "    .dataframe thead th {\n",
       "        text-align: right;\n",
       "    }\n",
       "</style>\n",
       "<table border=\"1\" class=\"dataframe\">\n",
       "  <thead>\n",
       "    <tr style=\"text-align: right;\">\n",
       "      <th></th>\n",
       "      <th>Nov/2015</th>\n",
       "      <th>Oct/2020</th>\n",
       "      <th>% diff</th>\n",
       "    </tr>\n",
       "  </thead>\n",
       "  <tbody>\n",
       "    <tr>\n",
       "      <th>GM</th>\n",
       "      <td>35.670000</td>\n",
       "      <td>35.340000</td>\n",
       "      <td>99.074853</td>\n",
       "    </tr>\n",
       "    <tr>\n",
       "      <th>TOYOTA</th>\n",
       "      <td>122.220000</td>\n",
       "      <td>135.760000</td>\n",
       "      <td>111.078383</td>\n",
       "    </tr>\n",
       "    <tr>\n",
       "      <th>FORD</th>\n",
       "      <td>14.340000</td>\n",
       "      <td>7.885000</td>\n",
       "      <td>54.986053</td>\n",
       "    </tr>\n",
       "    <tr>\n",
       "      <th>TESLA</th>\n",
       "      <td>45.066002</td>\n",
       "      <td>423.899994</td>\n",
       "      <td>940.620370</td>\n",
       "    </tr>\n",
       "    <tr>\n",
       "      <th>VOLKS</th>\n",
       "      <td>84.294083</td>\n",
       "      <td>131.740005</td>\n",
       "      <td>156.286184</td>\n",
       "    </tr>\n",
       "    <tr>\n",
       "      <th>S&amp;P500</th>\n",
       "      <td>2078.580078</td>\n",
       "      <td>3369.159912</td>\n",
       "      <td>162.089493</td>\n",
       "    </tr>\n",
       "  </tbody>\n",
       "</table>\n",
       "</div>"
      ],
      "text/plain": [
       "           Nov/2015     Oct/2020      % diff\n",
       "GM        35.670000    35.340000   99.074853\n",
       "TOYOTA   122.220000   135.760000  111.078383\n",
       "FORD      14.340000     7.885000   54.986053\n",
       "TESLA     45.066002   423.899994  940.620370\n",
       "VOLKS     84.294083   131.740005  156.286184\n",
       "S&P500  2078.580078  3369.159912  162.089493"
      ]
     },
     "execution_count": 20,
     "metadata": {},
     "output_type": "execute_result"
    }
   ],
   "source": [
    "# Create an empty DataFrame for closing prices\n",
    "fiveyears_closing_prices = pd.DataFrame()\n",
    "\n",
    "# Fetch the closing prices of FB and TWTR\n",
    "fiveyears_closing_prices[\"Nov/2015\"] = all_closing_prices.iloc[0]\n",
    "fiveyears_closing_prices[\"Oct/2020\"] = all_closing_prices.iloc[-1]\n",
    "fiveyears_closing_prices[\"% diff\"] = (fiveyears_closing_prices[\"Oct/2020\"] / fiveyears_closing_prices[\"Nov/2015\"]) * 100\n",
    "\n",
    "fiveyears_closing_prices"
   ]
  },
  {
   "cell_type": "code",
   "execution_count": 21,
   "metadata": {},
   "outputs": [
    {
     "name": "stdout",
     "output_type": "stream",
     "text": [
      "If you have invested $10000 over 5 years in Index(['GM', 'TOYOTA', 'FORD'], dtype='object') stock your balance would be $9907.48528174937 but if you have invested in tesla instead your balance would be $11107.838324333168\n"
     ]
    }
   ],
   "source": [
    " # Use the results to calculate the outcome of our initial $10,000 of investment in Apple and Tesla stocks\n",
    "initial_investiment = 10000\n",
    "portfolio_fv = initial_investiment * (fiveyears_closing_prices.iloc[0,2] / 100)\n",
    "tsla_fv = initial_investiment * (fiveyears_closing_prices.iloc[1,2] / 100)\n",
    "\n",
    "# Print results\n",
    "print(f\"If you have invested ${initial_investiment} over 5 years in {portfolio_closing_prices.columns} stock your balance would be ${portfolio_fv}\"\n",
    "      f\" but if you have invested in tesla instead your balance would be ${tsla_fv}\")"
   ]
  },
  {
   "cell_type": "code",
   "execution_count": 22,
   "metadata": {},
   "outputs": [
    {
     "data": {
      "text/html": [
       "<div>\n",
       "<style scoped>\n",
       "    .dataframe tbody tr th:only-of-type {\n",
       "        vertical-align: middle;\n",
       "    }\n",
       "\n",
       "    .dataframe tbody tr th {\n",
       "        vertical-align: top;\n",
       "    }\n",
       "\n",
       "    .dataframe thead th {\n",
       "        text-align: right;\n",
       "    }\n",
       "</style>\n",
       "<table border=\"1\" class=\"dataframe\">\n",
       "  <thead>\n",
       "    <tr style=\"text-align: right;\">\n",
       "      <th></th>\n",
       "      <th>GM</th>\n",
       "      <th>TOYOTA</th>\n",
       "      <th>FORD</th>\n",
       "      <th>TESLA</th>\n",
       "      <th>VOLKS</th>\n",
       "      <th>S&amp;P500</th>\n",
       "    </tr>\n",
       "  </thead>\n",
       "  <tbody>\n",
       "    <tr>\n",
       "      <th>count</th>\n",
       "      <td>1255.000000</td>\n",
       "      <td>1255.000000</td>\n",
       "      <td>1255.000000</td>\n",
       "      <td>1255.000000</td>\n",
       "      <td>1255.000000</td>\n",
       "      <td>1255.000000</td>\n",
       "    </tr>\n",
       "    <tr>\n",
       "      <th>mean</th>\n",
       "      <td>0.000241</td>\n",
       "      <td>0.000165</td>\n",
       "      <td>-0.000257</td>\n",
       "      <td>0.002434</td>\n",
       "      <td>0.000601</td>\n",
       "      <td>0.000459</td>\n",
       "    </tr>\n",
       "    <tr>\n",
       "      <th>std</th>\n",
       "      <td>0.022290</td>\n",
       "      <td>0.012771</td>\n",
       "      <td>0.021049</td>\n",
       "      <td>0.036013</td>\n",
       "      <td>0.022150</td>\n",
       "      <td>0.012171</td>\n",
       "    </tr>\n",
       "    <tr>\n",
       "      <th>min</th>\n",
       "      <td>-0.156004</td>\n",
       "      <td>-0.086259</td>\n",
       "      <td>-0.111901</td>\n",
       "      <td>-0.210628</td>\n",
       "      <td>-0.152115</td>\n",
       "      <td>-0.119841</td>\n",
       "    </tr>\n",
       "    <tr>\n",
       "      <th>25%</th>\n",
       "      <td>-0.009262</td>\n",
       "      <td>-0.005895</td>\n",
       "      <td>-0.009486</td>\n",
       "      <td>-0.014049</td>\n",
       "      <td>-0.009776</td>\n",
       "      <td>-0.002999</td>\n",
       "    </tr>\n",
       "    <tr>\n",
       "      <th>50%</th>\n",
       "      <td>0.000661</td>\n",
       "      <td>0.000186</td>\n",
       "      <td>0.000000</td>\n",
       "      <td>0.001261</td>\n",
       "      <td>0.000000</td>\n",
       "      <td>0.000688</td>\n",
       "    </tr>\n",
       "    <tr>\n",
       "      <th>75%</th>\n",
       "      <td>0.009612</td>\n",
       "      <td>0.006824</td>\n",
       "      <td>0.008879</td>\n",
       "      <td>0.018495</td>\n",
       "      <td>0.010980</td>\n",
       "      <td>0.005224</td>\n",
       "    </tr>\n",
       "    <tr>\n",
       "      <th>max</th>\n",
       "      <td>0.198751</td>\n",
       "      <td>0.095760</td>\n",
       "      <td>0.229927</td>\n",
       "      <td>0.198949</td>\n",
       "      <td>0.190461</td>\n",
       "      <td>0.093828</td>\n",
       "    </tr>\n",
       "  </tbody>\n",
       "</table>\n",
       "</div>"
      ],
      "text/plain": [
       "                GM       TOYOTA         FORD        TESLA        VOLKS  \\\n",
       "count  1255.000000  1255.000000  1255.000000  1255.000000  1255.000000   \n",
       "mean      0.000241     0.000165    -0.000257     0.002434     0.000601   \n",
       "std       0.022290     0.012771     0.021049     0.036013     0.022150   \n",
       "min      -0.156004    -0.086259    -0.111901    -0.210628    -0.152115   \n",
       "25%      -0.009262    -0.005895    -0.009486    -0.014049    -0.009776   \n",
       "50%       0.000661     0.000186     0.000000     0.001261     0.000000   \n",
       "75%       0.009612     0.006824     0.008879     0.018495     0.010980   \n",
       "max       0.198751     0.095760     0.229927     0.198949     0.190461   \n",
       "\n",
       "            S&P500  \n",
       "count  1255.000000  \n",
       "mean      0.000459  \n",
       "std       0.012171  \n",
       "min      -0.119841  \n",
       "25%      -0.002999  \n",
       "50%       0.000688  \n",
       "75%       0.005224  \n",
       "max       0.093828  "
      ]
     },
     "execution_count": 22,
     "metadata": {},
     "output_type": "execute_result"
    }
   ],
   "source": [
    "df_daily_returns.describe()"
   ]
  },
  {
   "cell_type": "code",
   "execution_count": 23,
   "metadata": {},
   "outputs": [
    {
     "data": {
      "text/plain": [
       "<matplotlib.axes._subplots.AxesSubplot at 0x1a22758cd60>"
      ]
     },
     "execution_count": 23,
     "metadata": {},
     "output_type": "execute_result"
    },
    {
     "data": {
      "image/png": "[encoded data removed]",
      "text/plain": [
       "<Figure size 432x288 with 1 Axes>"
      ]
     },
     "metadata": {
      "needs_background": "light"
     },
     "output_type": "display_data"
    }
   ],
   "source": [
    "df_daily_returns[\"GM\"].plot.hist()"
   ]
  },
  {
   "cell_type": "code",
   "execution_count": 24,
   "metadata": {},
   "outputs": [
    {
     "data": {
      "text/plain": [
       "<matplotlib.axes._subplots.AxesSubplot at 0x1a227ee6fd0>"
      ]
     },
     "execution_count": 24,
     "metadata": {},
     "output_type": "execute_result"
    },
    {
     "data": {
      "image/png": "[encoded data removed]",
      "text/plain": [
       "<Figure size 432x288 with 1 Axes>"
      ]
     },
     "metadata": {
      "needs_background": "light"
     },
     "output_type": "display_data"
    }
   ],
   "source": [
    "df_daily_returns[\"TESLA\"].plot.hist()"
   ]
  },
  {
   "cell_type": "code",
   "execution_count": 25,
   "metadata": {},
   "outputs": [
    {
     "data": {
      "text/plain": [
       "<matplotlib.axes._subplots.AxesSubplot at 0x1a227eec580>"
      ]
     },
     "execution_count": 25,
     "metadata": {},
     "output_type": "execute_result"
    },
    {
     "data": {
      "image/png": "[encoded data removed]",
      "text/plain": [
       "<Figure size 432x288 with 1 Axes>"
      ]
     },
     "metadata": {
      "needs_background": "light"
     },
     "output_type": "display_data"
    }
   ],
   "source": [
    "#Plot.density of TESLA and FORD\n",
    "txl_closing_prices = all_closing_prices.pct_change().dropna()\n",
    "txl_closing_prices.plot.density()"
   ]
  },
  {
   "cell_type": "code",
   "execution_count": null,
   "metadata": {},
   "outputs": [],
   "source": []
  }
 ],
 "metadata": {
  "kernelspec": {
   "display_name": "Python 3",
   "language": "python",
   "name": "python3"
  },
  "language_info": {
   "codemirror_mode": {
    "name": "ipython",
    "version": 3
   },
   "file_extension": ".py",
   "mimetype": "text/x-python",
   "name": "python",
   "nbconvert_exporter": "python",
   "pygments_lexer": "ipython3",
   "version": "3.8.3"
  }
 },
 "nbformat": 4,
 "nbformat_minor": 4
}
