{
 "cells": [
  {
   "cell_type": "code",
   "execution_count": 1,
   "metadata": {},
   "outputs": [],
   "source": [
    "import datetime as dt\n",
    "from pathlib import Path\n",
    "import seaborn as sns\n",
    "import os\n",
    "import requests\n",
    "import pandas as pd\n",
    "import yfinance as yf\n",
    "from dotenv import load_dotenv\n",
    "import alpaca_trade_api as tradeapi\n",
    "from MCForecastTools import MCSimulation\n",
    "%matplotlib inline"
   ]
  },
  {
   "cell_type": "code",
   "execution_count": 7,
   "metadata": {},
   "outputs": [
    {
     "data": {
      "text/html": [
       "<div>\n",
       "<style scoped>\n",
       "    .dataframe tbody tr th:only-of-type {\n",
       "        vertical-align: middle;\n",
       "    }\n",
       "\n",
       "    .dataframe tbody tr th {\n",
       "        vertical-align: top;\n",
       "    }\n",
       "\n",
       "    .dataframe thead th {\n",
       "        text-align: right;\n",
       "    }\n",
       "</style>\n",
       "<table border=\"1\" class=\"dataframe\">\n",
       "  <thead>\n",
       "    <tr style=\"text-align: right;\">\n",
       "      <th></th>\n",
       "      <th>TESLA</th>\n",
       "      <th>VOLKS</th>\n",
       "    </tr>\n",
       "    <tr>\n",
       "      <th>Date</th>\n",
       "      <th></th>\n",
       "      <th></th>\n",
       "    </tr>\n",
       "  </thead>\n",
       "  <tbody>\n",
       "    <tr>\n",
       "      <th>2015-11-06</th>\n",
       "      <td>46.472000</td>\n",
       "      <td>85.330193</td>\n",
       "    </tr>\n",
       "    <tr>\n",
       "      <th>2015-11-09</th>\n",
       "      <td>45.066002</td>\n",
       "      <td>84.294083</td>\n",
       "    </tr>\n",
       "    <tr>\n",
       "      <th>2015-11-10</th>\n",
       "      <td>43.299999</td>\n",
       "      <td>83.925301</td>\n",
       "    </tr>\n",
       "    <tr>\n",
       "      <th>2015-11-11</th>\n",
       "      <td>43.816002</td>\n",
       "      <td>84.443352</td>\n",
       "    </tr>\n",
       "    <tr>\n",
       "      <th>2015-11-12</th>\n",
       "      <td>42.588001</td>\n",
       "      <td>83.758453</td>\n",
       "    </tr>\n",
       "  </tbody>\n",
       "</table>\n",
       "</div>"
      ],
      "text/plain": [
       "                TESLA      VOLKS\n",
       "Date                            \n",
       "2015-11-06  46.472000  85.330193\n",
       "2015-11-09  45.066002  84.294083\n",
       "2015-11-10  43.299999  83.925301\n",
       "2015-11-11  43.816002  84.443352\n",
       "2015-11-12  42.588001  83.758453"
      ]
     },
     "execution_count": 7,
     "metadata": {},
     "output_type": "execute_result"
    }
   ],
   "source": [
    "# Get historical data in YAHOO FINANCE HISTORICAL DATABASE\n",
    "tsla = yf.Ticker(\"TSLA\")\n",
    "volks = yf.Ticker(\"VOW3.DE\")\n",
    "tesla_hist = tsla.history(period=\"5y\")\n",
    "vow_hist = volks.history(period=\"5y\")\n",
    "\n",
    "# Create an empty DataFrame for TESLA AND VOLKS.DE closing prices\n",
    "t_v_closing_prices = pd.DataFrame()\n",
    "# Fetch the closing prices of TESLA AND VOLKS.DE\n",
    "t_v_closing_prices[\"TESLA\"] = tesla_hist[\"Close\"]\n",
    "t_v_closing_prices[\"VOLKS\"] = vow_hist[\"Close\"]\n",
    "t_v_closing_prices.head()"
   ]
  },
  {
   "cell_type": "code",
   "execution_count": null,
   "metadata": {},
   "outputs": [],
   "source": [
    "load_dotenv()"
   ]
  },
  {
   "cell_type": "code",
   "execution_count": null,
   "metadata": {},
   "outputs": [],
   "source": [
    "# Open S&P 500 historical prices\n",
    "file_path = Path(\"Resources\\S&P500_5years.csv\")\n",
    "sp500 = pd.read_csv(file_path, parse_dates=True, index_col=\"Date\", infer_datetime_format=True)\n",
    "sp500.head()"
   ]
  },
  {
   "cell_type": "code",
   "execution_count": null,
   "metadata": {},
   "outputs": [],
   "source": [
    "# Fetch the closing prices of S&P500\n",
    "sp500_closing_prices = pd.DataFrame()\n",
    "sp500_closing_prices[\"S&P500\"] = sp500[\"Close\"]\n",
    "sp500_closing_prices"
   ]
  },
  {
   "cell_type": "code",
   "execution_count": null,
   "metadata": {},
   "outputs": [],
   "source": [
    "#check null and cleaning data\n",
    "sp500_closing_prices.isnull().sum()"
   ]
  },
  {
   "cell_type": "code",
   "execution_count": null,
   "metadata": {},
   "outputs": [],
   "source": [
    "###Set Alpaca API key and secret\n",
    "alpaca_api_key = os.getenv(\"api_key_id\")\n",
    "alpaca_secret_key = os.getenv(\"secret_api_key\")\n",
    "###Create the Alpaca API object\n",
    "alpaca = tradeapi.REST(\n",
    "    alpaca_api_key,\n",
    "    alpaca_secret_key,\n",
    "    api_version=\"v2\")"
   ]
  },
  {
   "cell_type": "code",
   "execution_count": null,
   "metadata": {},
   "outputs": [],
   "source": [
    "###Set the tickers\n",
    "tickers = [\"GM\", \"TM\", \"VWAGY\", \"F\"]\n",
    "###Set timeframe to '1D' for Alpaca API\n",
    "timeframe = \"1D\"\n",
    "# Set start and end datetimes \n",
    "start_date = pd.Timestamp(\"2015-01-01\", tz=\"America/New_York\").isoformat()\n",
    "end_date = pd.Timestamp(\"2020-11-03\", tz=\"America/New_York\").isoformat()\n",
    "\n",
    "# Get historical data \n",
    "f_ticker = alpaca.get_barset(\n",
    "    tickers,\n",
    "    timeframe,\n",
    "    start=start_date,\n",
    "    end=end_date\n",
    ").df\n",
    "\n",
    "# Create an empty DataFrame for TICKER closing prices\n",
    "portfolio_closing_prices = pd.DataFrame()\n",
    "# Fetch the closing prices of TICKER\n",
    "portfolio_closing_prices[\"GM\"] = f_ticker[\"GM\"][\"close\"]\n",
    "portfolio_closing_prices[\"TM\"] = f_ticker[\"TM\"][\"close\"]\n",
    "portfolio_closing_prices[\"VVWAGY\"] = f_ticker[\"VWAGY\"][\"close\"]\n",
    "portfolio_closing_prices[\"F\"] = f_ticker[\"F\"][\"close\"]\n",
    "# Drop the time component of the date\n",
    "portfolio_closing_prices.index = portfolio_closing_prices.index.date\n",
    "# Display sample data\n",
    "portfolio_closing_prices.head(10)"
   ]
  },
  {
   "cell_type": "code",
   "execution_count": null,
   "metadata": {},
   "outputs": [],
   "source": [
    "#Concatenate STOCKS & INDEX\n",
    "all_closing_prices = pd.concat([portfolio_closing_prices,tesla_closing_prices, sp500_closing_prices], axis=\"columns\", join=\"inner\")\n",
    "all_closing_prices.head(10)"
   ]
  },
  {
   "cell_type": "code",
   "execution_count": null,
   "metadata": {},
   "outputs": [],
   "source": [
    "# Compute daily returns\n",
    "df_daily_returns = all_closing_prices.pct_change().dropna()\n",
    "\n",
    "# Display sample data\n",
    "df_daily_returns.head(10)"
   ]
  },
  {
   "cell_type": "code",
   "execution_count": null,
   "metadata": {},
   "outputs": [],
   "source": [
    "df_daily_returns.plot(figsize=(10,5))"
   ]
  },
  {
   "cell_type": "code",
   "execution_count": null,
   "metadata": {},
   "outputs": [],
   "source": [
    "df_cumulative = (1 + df_daily_returns).cumprod()\n",
    "df_cumulative.plot(figsize=(10,5))"
   ]
  },
  {
   "cell_type": "code",
   "execution_count": null,
   "metadata": {},
   "outputs": [],
   "source": [
    "df_cumulative.plot.box(figsize=(20,10))"
   ]
  },
  {
   "cell_type": "code",
   "execution_count": null,
   "metadata": {},
   "outputs": [],
   "source": [
    "df_daily_returns.describe()"
   ]
  },
  {
   "cell_type": "code",
   "execution_count": null,
   "metadata": {},
   "outputs": [],
   "source": [
    "###Calculate and plot beta of TESLA and the S&P500.\n",
    "###Calculate covariance of TESLA\n",
    "covariance_tesla = df_daily_returns['TESLA'].cov(df_daily_returns['S&P500'])\n",
    "print(f'TESLA covariance returns vs S&P500 is: {covariance_tesla}')"
   ]
  },
  {
   "cell_type": "code",
   "execution_count": null,
   "metadata": {},
   "outputs": [],
   "source": [
    "###Calculate variance of S&P500\n",
    "variance_tesla = df_daily_returns['S&P500'].var()\n",
    "print(f\"Variance of S&P500 is : {variance_tesla}\")"
   ]
  },
  {
   "cell_type": "code",
   "execution_count": null,
   "metadata": {},
   "outputs": [],
   "source": [
    "###Calculating beta of Algo 1\n",
    "###Plot beta trend\n",
    "beta_tesla = covariance_tesla / variance_tesla\n",
    "print(f'Beta of TESLA is: {beta_tesla}')"
   ]
  },
  {
   "cell_type": "code",
   "execution_count": null,
   "metadata": {},
   "outputs": [],
   "source": [
    "sns.lmplot(x=\"S&P500\", y=\"TESLA\", data=df_daily_returns, aspect=1.5, fit_reg=True)"
   ]
  },
  {
   "cell_type": "code",
   "execution_count": null,
   "metadata": {},
   "outputs": [],
   "source": [
    "# Create an empty DataFrame for closing prices\n",
    "fiveyears_closing_prices = pd.DataFrame()\n",
    "\n",
    "# Fetch the closing prices of FB and TWTR\n",
    "fiveyears_closing_prices[\"Nov/2015\"] = all_closing_prices.iloc[0]\n",
    "fiveyears_closing_prices[\"Oct/2020\"] = all_closing_prices.iloc[-1]\n",
    "fiveyears_closing_prices[\"% diff\"] = (fiveyears_closing_prices[\"Oct/2020\"] / fiveyears_closing_prices[\"Nov/2015\"]) * 100\n",
    "\n",
    "fiveyears_closing_prices"
   ]
  },
  {
   "cell_type": "code",
   "execution_count": null,
   "metadata": {},
   "outputs": [],
   "source": [
    " # Use the results to calculate the outcome of our initial $10,000 of investment in Apple and Tesla stocks\n",
    "initial_investiment = 10000\n",
    "portfolio_fv = initial_investiment * (fiveyears_closing_prices.iloc[0,2] / 100)\n",
    "tsla_fv = initial_investiment * (fiveyears_closing_prices.iloc[1,2] / 100)\n",
    "\n",
    "# Print results\n",
    "print(f\"If you have invested ${initial_investiment} over 5 years in {portfolio_closing_prices.columns} stock your balance would be ${portfolio_fv}\"\n",
    "      f\" but if you have invested in tesla instead your balance would be ${tsla_fv}\")"
   ]
  },
  {
   "cell_type": "code",
   "execution_count": null,
   "metadata": {},
   "outputs": [],
   "source": [
    "df_daily_returns.describe()"
   ]
  },
  {
   "cell_type": "code",
   "execution_count": null,
   "metadata": {},
   "outputs": [],
   "source": [
    "df_daily_returns[\"GM\"].plot.hist()"
   ]
  },
  {
   "cell_type": "code",
   "execution_count": null,
   "metadata": {},
   "outputs": [],
   "source": [
    "df_daily_returns[\"TESLA\"].plot.hist()"
   ]
  },
  {
   "cell_type": "code",
   "execution_count": null,
   "metadata": {},
   "outputs": [],
   "source": [
    "#Plot.density of TESLA and FORD\n",
    "txl_closing_prices = all_closing_prices.pct_change().dropna()\n",
    "txl_closing_prices.plot.density()"
   ]
  },
  {
   "cell_type": "code",
   "execution_count": null,
   "metadata": {},
   "outputs": [],
   "source": []
  }
 ],
 "metadata": {
  "kernelspec": {
   "display_name": "Python 3",
   "language": "python",
   "name": "python3"
  },
  "language_info": {
   "codemirror_mode": {
    "name": "ipython",
    "version": 3
   },
   "file_extension": ".py",
   "mimetype": "text/x-python",
   "name": "python",
   "nbconvert_exporter": "python",
   "pygments_lexer": "ipython3",
   "version": "3.8.3"
  }
 },
 "nbformat": 4,
 "nbformat_minor": 4
}
