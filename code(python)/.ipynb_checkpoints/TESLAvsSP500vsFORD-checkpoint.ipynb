{
 "cells": [
  {
   "cell_type": "code",
   "execution_count": 1,
   "metadata": {},
   "outputs": [],
   "source": [
    "import datetime as dt\n",
    "from pathlib import Path\n",
    "import seaborn as sns\n",
    "import os\n",
    "import requests\n",
    "import pandas as pd\n",
    "import yfinance as yf\n",
    "from dotenv import load_dotenv\n",
    "import alpaca_trade_api as tradeapi\n",
    "from MCForecastTools import MCSimulation\n",
    "%matplotlib inline"
   ]
  },
  {
   "cell_type": "code",
   "execution_count": 3,
   "metadata": {},
   "outputs": [
    {
     "data": {
      "text/html": [
       "<div>\n",
       "<style scoped>\n",
       "    .dataframe tbody tr th:only-of-type {\n",
       "        vertical-align: middle;\n",
       "    }\n",
       "\n",
       "    .dataframe tbody tr th {\n",
       "        vertical-align: top;\n",
       "    }\n",
       "\n",
       "    .dataframe thead th {\n",
       "        text-align: right;\n",
       "    }\n",
       "</style>\n",
       "<table border=\"1\" class=\"dataframe\">\n",
       "  <thead>\n",
       "    <tr style=\"text-align: right;\">\n",
       "      <th></th>\n",
       "      <th>Open</th>\n",
       "      <th>High</th>\n",
       "      <th>Low</th>\n",
       "      <th>Close</th>\n",
       "      <th>Volume</th>\n",
       "      <th>Dividends</th>\n",
       "      <th>Stock Splits</th>\n",
       "    </tr>\n",
       "    <tr>\n",
       "      <th>Date</th>\n",
       "      <th></th>\n",
       "      <th></th>\n",
       "      <th></th>\n",
       "      <th></th>\n",
       "      <th></th>\n",
       "      <th></th>\n",
       "      <th></th>\n",
       "    </tr>\n",
       "  </thead>\n",
       "  <tbody>\n",
       "    <tr>\n",
       "      <th>2015-11-06</th>\n",
       "      <td>46.139999</td>\n",
       "      <td>46.672001</td>\n",
       "      <td>45.900002</td>\n",
       "      <td>46.472000</td>\n",
       "      <td>12226500</td>\n",
       "      <td>0</td>\n",
       "      <td>0.0</td>\n",
       "    </tr>\n",
       "    <tr>\n",
       "      <th>2015-11-09</th>\n",
       "      <td>46.598000</td>\n",
       "      <td>46.598000</td>\n",
       "      <td>44.862000</td>\n",
       "      <td>45.066002</td>\n",
       "      <td>19254500</td>\n",
       "      <td>0</td>\n",
       "      <td>0.0</td>\n",
       "    </tr>\n",
       "    <tr>\n",
       "      <th>2015-11-10</th>\n",
       "      <td>44.695999</td>\n",
       "      <td>44.740002</td>\n",
       "      <td>43.216000</td>\n",
       "      <td>43.299999</td>\n",
       "      <td>23085000</td>\n",
       "      <td>0</td>\n",
       "      <td>0.0</td>\n",
       "    </tr>\n",
       "    <tr>\n",
       "      <th>2015-11-11</th>\n",
       "      <td>43.554001</td>\n",
       "      <td>43.896000</td>\n",
       "      <td>42.726002</td>\n",
       "      <td>43.816002</td>\n",
       "      <td>16739000</td>\n",
       "      <td>0</td>\n",
       "      <td>0.0</td>\n",
       "    </tr>\n",
       "    <tr>\n",
       "      <th>2015-11-12</th>\n",
       "      <td>43.570000</td>\n",
       "      <td>43.799999</td>\n",
       "      <td>42.532001</td>\n",
       "      <td>42.588001</td>\n",
       "      <td>14579500</td>\n",
       "      <td>0</td>\n",
       "      <td>0.0</td>\n",
       "    </tr>\n",
       "    <tr>\n",
       "      <th>...</th>\n",
       "      <td>...</td>\n",
       "      <td>...</td>\n",
       "      <td>...</td>\n",
       "      <td>...</td>\n",
       "      <td>...</td>\n",
       "      <td>...</td>\n",
       "      <td>...</td>\n",
       "    </tr>\n",
       "    <tr>\n",
       "      <th>2020-10-30</th>\n",
       "      <td>406.899994</td>\n",
       "      <td>407.589996</td>\n",
       "      <td>379.109985</td>\n",
       "      <td>388.040009</td>\n",
       "      <td>42511300</td>\n",
       "      <td>0</td>\n",
       "      <td>0.0</td>\n",
       "    </tr>\n",
       "    <tr>\n",
       "      <th>2020-11-02</th>\n",
       "      <td>394.000000</td>\n",
       "      <td>406.980011</td>\n",
       "      <td>392.299988</td>\n",
       "      <td>400.510010</td>\n",
       "      <td>29021100</td>\n",
       "      <td>0</td>\n",
       "      <td>0.0</td>\n",
       "    </tr>\n",
       "    <tr>\n",
       "      <th>2020-11-03</th>\n",
       "      <td>409.730011</td>\n",
       "      <td>427.769989</td>\n",
       "      <td>406.690002</td>\n",
       "      <td>423.899994</td>\n",
       "      <td>34351700</td>\n",
       "      <td>0</td>\n",
       "      <td>0.0</td>\n",
       "    </tr>\n",
       "    <tr>\n",
       "      <th>2020-11-04</th>\n",
       "      <td>430.619995</td>\n",
       "      <td>435.399994</td>\n",
       "      <td>417.100006</td>\n",
       "      <td>420.980011</td>\n",
       "      <td>32023000</td>\n",
       "      <td>0</td>\n",
       "      <td>0.0</td>\n",
       "    </tr>\n",
       "    <tr>\n",
       "      <th>2020-11-05</th>\n",
       "      <td>428.299988</td>\n",
       "      <td>440.000000</td>\n",
       "      <td>424.000092</td>\n",
       "      <td>438.089996</td>\n",
       "      <td>27564471</td>\n",
       "      <td>0</td>\n",
       "      <td>0.0</td>\n",
       "    </tr>\n",
       "  </tbody>\n",
       "</table>\n",
       "<p>1259 rows × 7 columns</p>\n",
       "</div>"
      ],
      "text/plain": [
       "                  Open        High         Low       Close    Volume  \\\n",
       "Date                                                                   \n",
       "2015-11-06   46.139999   46.672001   45.900002   46.472000  12226500   \n",
       "2015-11-09   46.598000   46.598000   44.862000   45.066002  19254500   \n",
       "2015-11-10   44.695999   44.740002   43.216000   43.299999  23085000   \n",
       "2015-11-11   43.554001   43.896000   42.726002   43.816002  16739000   \n",
       "2015-11-12   43.570000   43.799999   42.532001   42.588001  14579500   \n",
       "...                ...         ...         ...         ...       ...   \n",
       "2020-10-30  406.899994  407.589996  379.109985  388.040009  42511300   \n",
       "2020-11-02  394.000000  406.980011  392.299988  400.510010  29021100   \n",
       "2020-11-03  409.730011  427.769989  406.690002  423.899994  34351700   \n",
       "2020-11-04  430.619995  435.399994  417.100006  420.980011  32023000   \n",
       "2020-11-05  428.299988  440.000000  424.000092  438.089996  27564471   \n",
       "\n",
       "            Dividends  Stock Splits  \n",
       "Date                                 \n",
       "2015-11-06          0           0.0  \n",
       "2015-11-09          0           0.0  \n",
       "2015-11-10          0           0.0  \n",
       "2015-11-11          0           0.0  \n",
       "2015-11-12          0           0.0  \n",
       "...               ...           ...  \n",
       "2020-10-30          0           0.0  \n",
       "2020-11-02          0           0.0  \n",
       "2020-11-03          0           0.0  \n",
       "2020-11-04          0           0.0  \n",
       "2020-11-05          0           0.0  \n",
       "\n",
       "[1259 rows x 7 columns]"
      ]
     },
     "execution_count": 3,
     "metadata": {},
     "output_type": "execute_result"
    }
   ],
   "source": [
    "tsla = yf.Ticker(\"TSLA\")\n",
    "\n",
    "tsla_hist = tsla.history(period=\"5y\")\n",
    "tsla_hist"
   ]
  },
  {
   "cell_type": "code",
   "execution_count": null,
   "metadata": {},
   "outputs": [],
   "source": [
    "load_dotenv()"
   ]
  },
  {
   "cell_type": "code",
   "execution_count": null,
   "metadata": {},
   "outputs": [],
   "source": [
    "###Set Alpaca API key and secret\n",
    "alpaca_api_key = os.getenv(\"api_key_id\")\n",
    "alpaca_secret_key = os.getenv(\"secret_api_key\")\n",
    "###Create the Alpaca API object\n",
    "alpaca = tradeapi.REST(\n",
    "    alpaca_api_key,\n",
    "    alpaca_secret_key,\n",
    "    api_version=\"v2\")"
   ]
  },
  {
   "cell_type": "code",
   "execution_count": null,
   "metadata": {},
   "outputs": [],
   "source": [
    "# Open S&P 500 historical prices\n",
    "file_path = Path(\"Resources\\S&P500_5years.csv\")\n",
    "sp500 = pd.read_csv(file_path, parse_dates=True, index_col=\"Date\", infer_datetime_format=True)\n",
    "sp500.head()"
   ]
  },
  {
   "cell_type": "code",
   "execution_count": null,
   "metadata": {},
   "outputs": [],
   "source": [
    "# Fetch the closing prices of S&P500\n",
    "sp500_closing_prices = pd.DataFrame()\n",
    "sp500_closing_prices[\"S&P500\"] = sp500[\"Close\"]\n",
    "sp500_closing_prices"
   ]
  },
  {
   "cell_type": "code",
   "execution_count": null,
   "metadata": {},
   "outputs": [],
   "source": [
    "#check null and cleaning data\n",
    "sp500_closing_prices.isnull().sum()"
   ]
  },
  {
   "cell_type": "code",
   "execution_count": null,
   "metadata": {},
   "outputs": [],
   "source": [
    "###Set the tickers\n",
    "tickers = [\"F\", \"TSLA\"]\n",
    "###Set timeframe to '1D' for Alpaca API\n",
    "timeframe = \"1D\"\n",
    "# Set start and end datetimes \n",
    "start_date = pd.Timestamp(\"2015-01-01\", tz=\"America/New_York\").isoformat()\n",
    "end_date = pd.Timestamp(\"2020-08-27\", tz=\"America/New_York\").isoformat()\n",
    "\n",
    "# Get historical data \n",
    "df_ticker = alpaca.get_barset(\n",
    "    tickers,\n",
    "    timeframe,\n",
    "    start=start_date,\n",
    "    end=end_date\n",
    ").df\n",
    "\n",
    "df_ticker.tail(10)"
   ]
  },
  {
   "cell_type": "code",
   "execution_count": null,
   "metadata": {},
   "outputs": [],
   "source": [
    "# Create and empty DataFrame for closing prices\n",
    "df_closing_prices = pd.DataFrame()\n",
    "\n",
    "# Fetch the closing prices of KO and TSLA\n",
    "df_closing_prices[\"FORD\"] = df_ticker[\"F\"][\"close\"]\n",
    "df_closing_prices[\"TESLA\"] = df_ticker[\"TSLA\"][\"close\"]\n",
    "\n",
    "# Drop the time component of the date\n",
    "df_closing_prices.index = df_closing_prices.index.date\n",
    "\n",
    "df_closing_prices"
   ]
  },
  {
   "cell_type": "code",
   "execution_count": null,
   "metadata": {},
   "outputs": [],
   "source": [
    "#Concatenate STOCKS & INDEX\n",
    "all_closing_prices = pd.concat([df_closing_prices, sp500_closing_prices], axis=\"columns\", join=\"inner\")\n",
    "all_closing_prices.head()"
   ]
  },
  {
   "cell_type": "code",
   "execution_count": null,
   "metadata": {},
   "outputs": [],
   "source": [
    "# Compute daily returns\n",
    "df_daily_returns = all_closing_prices.pct_change().dropna()\n",
    "\n",
    "# Display sample data\n",
    "df_daily_returns.tail(10)"
   ]
  },
  {
   "cell_type": "code",
   "execution_count": null,
   "metadata": {},
   "outputs": [],
   "source": [
    "df_daily_returns.plot(figsize=(10,5))"
   ]
  },
  {
   "cell_type": "code",
   "execution_count": null,
   "metadata": {},
   "outputs": [],
   "source": [
    "df_cumulative = (1 + df_daily_returns).cumprod()\n",
    "df_cumulative.plot(figsize=(10,5))"
   ]
  },
  {
   "cell_type": "code",
   "execution_count": null,
   "metadata": {},
   "outputs": [],
   "source": [
    "df_cumulative.plot.box(figsize=(20,10))"
   ]
  },
  {
   "cell_type": "code",
   "execution_count": null,
   "metadata": {},
   "outputs": [],
   "source": [
    "df_daily_returns.describe()"
   ]
  },
  {
   "cell_type": "code",
   "execution_count": null,
   "metadata": {},
   "outputs": [],
   "source": [
    "###Calculate and plot beta of TESLA and the S&P500.\n",
    "###Calculate covariance of TESLA\n",
    "covariance_tesla = df_daily_returns['TESLA'].cov(df_daily_returns['S&P500'])\n",
    "print(f'TESLA covariance returns vs S&P500 is: {covariance_tesla}')"
   ]
  },
  {
   "cell_type": "code",
   "execution_count": null,
   "metadata": {},
   "outputs": [],
   "source": [
    "###Calculate variance of S&P500\n",
    "variance_tesla = df_daily_returns['S&P500'].var()\n",
    "print(f\"Variance of S&P500 is : {variance_tesla}\")"
   ]
  },
  {
   "cell_type": "code",
   "execution_count": null,
   "metadata": {},
   "outputs": [],
   "source": [
    "###Calculating beta of Algo 1\n",
    "###Plot beta trend\n",
    "beta_tesla = covariance_tesla / variance_tesla\n",
    "print(f'Beta of TESLA is: {beta_tesla}')"
   ]
  },
  {
   "cell_type": "code",
   "execution_count": null,
   "metadata": {},
   "outputs": [],
   "source": [
    "sns.lmplot(x=\"S&P500\", y=\"TESLA\", data=df_daily_returns, aspect=1.5, fit_reg=True)"
   ]
  },
  {
   "cell_type": "code",
   "execution_count": null,
   "metadata": {},
   "outputs": [],
   "source": [
    "# Create an empty DataFrame for closing prices\n",
    "fiveyears_closing_prices = pd.DataFrame()\n",
    "\n",
    "# Fetch the closing prices of FB and TWTR\n",
    "fiveyears_closing_prices[\"Nov/2015\"] = df_closing_prices.iloc[0]\n",
    "fiveyears_closing_prices[\"Aug/2020\"] = df_closing_prices.iloc[-1]\n",
    "fiveyears_closing_prices[\"% diff\"] = (fiveyears_closing_prices[\"Aug/2020\"] / fiveyears_closing_prices[\"Nov/2015\"]) * 100\n",
    "\n",
    "fiveyears_closing_prices"
   ]
  },
  {
   "cell_type": "code",
   "execution_count": null,
   "metadata": {},
   "outputs": [],
   "source": [
    " # Use the results to calculate the outcome of our initial $10,000 of investment in Apple and Tesla stocks\n",
    "initial_investiment = 10000\n",
    "ford_fv = initial_investiment * (fiveyears_closing_prices.iloc[0,2] / 100)\n",
    "tsla_fv = initial_investiment * (fiveyears_closing_prices.iloc[1,2] / 100)\n",
    "\n",
    "# Print results\n",
    "print(f\"If you have invested ${initial_investiment} over 5 years in FORD stock your balance would be ${ford_fv}\"\n",
    "      f\" but if you have invested in tesla instead your balance would be ${tsla_fv}\")"
   ]
  },
  {
   "cell_type": "code",
   "execution_count": null,
   "metadata": {},
   "outputs": [],
   "source": [
    "df_daily_returns.describe()"
   ]
  },
  {
   "cell_type": "code",
   "execution_count": null,
   "metadata": {},
   "outputs": [],
   "source": [
    "df_daily_returns[\"FORD\"].plot.hist()"
   ]
  },
  {
   "cell_type": "code",
   "execution_count": null,
   "metadata": {},
   "outputs": [],
   "source": [
    "df_daily_returns[\"TESLA\"].plot.hist()"
   ]
  },
  {
   "cell_type": "code",
   "execution_count": null,
   "metadata": {},
   "outputs": [],
   "source": [
    "#Plot.density of TESLA and FORD\n",
    "txl_closing_prices = df_closing_prices.pct_change().dropna()\n",
    "txl_closing_prices.plot.density()"
   ]
  }
 ],
 "metadata": {
  "kernelspec": {
   "display_name": "Python 3",
   "language": "python",
   "name": "python3"
  },
  "language_info": {
   "codemirror_mode": {
    "name": "ipython",
    "version": 3
   },
   "file_extension": ".py",
   "mimetype": "text/x-python",
   "name": "python",
   "nbconvert_exporter": "python",
   "pygments_lexer": "ipython3",
   "version": "3.8.3"
  }
 },
 "nbformat": 4,
 "nbformat_minor": 4
}
