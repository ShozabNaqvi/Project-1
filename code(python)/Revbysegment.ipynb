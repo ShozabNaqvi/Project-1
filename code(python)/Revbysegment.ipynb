{
 "cells": [
  {
   "cell_type": "code",
   "execution_count": 6,
   "metadata": {},
   "outputs": [],
   "source": [
    "import os\n",
    "import requests\n",
    "import pandas as pd\n",
    "from dotenv import load_dotenv\n",
    "import alpaca_trade_api as tradeapi\n",
    "import yfinance as yf\n",
    "import pandas as pd\n",
    "from pathlib import Path\n",
    "import numpy as np\n",
    "import matplotlib.pyplot as plt\n",
    "import hvplot.pandas \n",
    "import pygal\n",
    "from pygal.style import DarkSolarizedStyle\n",
    "import cairo\n",
    "%matplotlib inline\n"
   ]
  },
  {
   "cell_type": "code",
   "execution_count": 7,
   "metadata": {},
   "outputs": [
    {
     "data": {
      "text/html": [
       "<div>\n",
       "<style scoped>\n",
       "    .dataframe tbody tr th:only-of-type {\n",
       "        vertical-align: middle;\n",
       "    }\n",
       "\n",
       "    .dataframe tbody tr th {\n",
       "        vertical-align: top;\n",
       "    }\n",
       "\n",
       "    .dataframe thead th {\n",
       "        text-align: right;\n",
       "    }\n",
       "</style>\n",
       "<table border=\"1\" class=\"dataframe\">\n",
       "  <thead>\n",
       "    <tr style=\"text-align: right;\">\n",
       "      <th></th>\n",
       "      <th>Automotive sales</th>\n",
       "      <th>Automotive leasing</th>\n",
       "      <th>Energy generation and storage</th>\n",
       "      <th>Services and other</th>\n",
       "    </tr>\n",
       "    <tr>\n",
       "      <th>Year</th>\n",
       "      <th></th>\n",
       "      <th></th>\n",
       "      <th></th>\n",
       "      <th></th>\n",
       "    </tr>\n",
       "  </thead>\n",
       "  <tbody>\n",
       "    <tr>\n",
       "      <th>2015</th>\n",
       "      <td>3431</td>\n",
       "      <td>309</td>\n",
       "      <td>14</td>\n",
       "      <td>290</td>\n",
       "    </tr>\n",
       "    <tr>\n",
       "      <th>2016</th>\n",
       "      <td>5589</td>\n",
       "      <td>761</td>\n",
       "      <td>181</td>\n",
       "      <td>467</td>\n",
       "    </tr>\n",
       "    <tr>\n",
       "      <th>2017</th>\n",
       "      <td>8534</td>\n",
       "      <td>1106</td>\n",
       "      <td>1116</td>\n",
       "      <td>1001</td>\n",
       "    </tr>\n",
       "    <tr>\n",
       "      <th>2018</th>\n",
       "      <td>17632</td>\n",
       "      <td>883</td>\n",
       "      <td>1555</td>\n",
       "      <td>1391</td>\n",
       "    </tr>\n",
       "    <tr>\n",
       "      <th>2019</th>\n",
       "      <td>19952</td>\n",
       "      <td>869</td>\n",
       "      <td>1531</td>\n",
       "      <td>2226</td>\n",
       "    </tr>\n",
       "    <tr>\n",
       "      <th>Sep-20</th>\n",
       "      <td>17150</td>\n",
       "      <td>772</td>\n",
       "      <td>1242</td>\n",
       "      <td>1628</td>\n",
       "    </tr>\n",
       "  </tbody>\n",
       "</table>\n",
       "</div>"
      ],
      "text/plain": [
       "        Automotive sales  Automotive leasing  Energy generation and storage  \\\n",
       "Year                                                                          \n",
       "2015                3431                 309                             14   \n",
       "2016                5589                 761                            181   \n",
       "2017                8534                1106                           1116   \n",
       "2018               17632                 883                           1555   \n",
       "2019               19952                 869                           1531   \n",
       "Sep-20             17150                 772                           1242   \n",
       "\n",
       "        Services and other  \n",
       "Year                        \n",
       "2015                   290  \n",
       "2016                   467  \n",
       "2017                  1001  \n",
       "2018                  1391  \n",
       "2019                  2226  \n",
       "Sep-20                1628  "
      ]
     },
     "execution_count": 7,
     "metadata": {},
     "output_type": "execute_result"
    }
   ],
   "source": [
    "csv_path = Path(\"TSLA-Revbyseg.csv\")\n",
    "revenue = pd.read_csv(csv_path, parse_dates=True, infer_datetime_format=True).dropna().set_index('Year')\n",
    "revenue"
   ]
  },
  {
   "cell_type": "code",
   "execution_count": 16,
   "metadata": {},
   "outputs": [
    {
     "name": "stdout",
     "output_type": "stream",
     "text": [
      "file://C:/Users/ttanh/AppData/Local/Temp/tmpqltv1l7d.html\n"
     ]
    }
   ],
   "source": [
    "segmentr_rev = pygal.HorizontalBar(fill=True, interpolate='cubic', style=DarkSolarizedStyle, y_title='Year', x_title='Revenue', figize=(5,1))\n",
    "segmentr_rev.title = \"Tesla Revenue by Segment in Millions\"\n",
    "segmentr_rev.add('Automotive sales', revenue.iloc[:,0])\n",
    "segmentr_rev.add('Automotive leasing', revenue.iloc[:,1])\n",
    "segmentr_rev.add('Energy generation and storage', revenue.iloc[:,2])\n",
    "segmentr_rev.add('Services and other', revenue.iloc[:,3])\n",
    "segmentr_rev.x_labels = map(str, range(2015, 2021))\n",
    "#segmentr_rev.render('TSLA.png')\n",
    "segmentr_rev.render_in_browser()\n"
   ]
  },
  {
   "cell_type": "code",
   "execution_count": null,
   "metadata": {},
   "outputs": [],
   "source": []
  },
  {
   "cell_type": "code",
   "execution_count": null,
   "metadata": {},
   "outputs": [],
   "source": []
  }
 ],
 "metadata": {
  "kernelspec": {
   "display_name": "Python 3",
   "language": "python",
   "name": "python3"
  },
  "language_info": {
   "codemirror_mode": {
    "name": "ipython",
    "version": 3
   },
   "file_extension": ".py",
   "mimetype": "text/x-python",
   "name": "python",
   "nbconvert_exporter": "python",
   "pygments_lexer": "ipython3",
   "version": "3.8.3"
  }
 },
 "nbformat": 4,
 "nbformat_minor": 4
}
