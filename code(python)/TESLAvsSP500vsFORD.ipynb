{
 "cells": [
  {
   "cell_type": "code",
   "execution_count": 1,
   "metadata": {},
   "outputs": [],
   "source": [
    "import datetime as dt\n",
    "from pathlib import Path\n",
    "import seaborn as sns\n",
    "import os\n",
    "import requests\n",
    "import pandas as pd\n",
    "from dotenv import load_dotenv\n",
    "import alpaca_trade_api as tradeapi\n",
    "from MCForecastTools import MCSimulation\n",
    "%matplotlib inline"
   ]
  },
  {
   "cell_type": "code",
   "execution_count": 2,
   "metadata": {},
   "outputs": [
    {
     "data": {
      "text/plain": [
       "True"
      ]
     },
     "execution_count": 2,
     "metadata": {},
     "output_type": "execute_result"
    }
   ],
   "source": [
    "load_dotenv()"
   ]
  },
  {
   "cell_type": "code",
   "execution_count": 3,
   "metadata": {},
   "outputs": [],
   "source": [
    "###Set Alpaca API key and secret\n",
    "alpaca_api_key = os.getenv(\"api_key_id\")\n",
    "alpaca_secret_key = os.getenv(\"secret_api_key\")\n",
    "###Create the Alpaca API object\n",
    "alpaca = tradeapi.REST(\n",
    "    alpaca_api_key,\n",
    "    alpaca_secret_key,\n",
    "    api_version=\"v2\")"
   ]
  },
  {
   "cell_type": "code",
   "execution_count": 4,
   "metadata": {},
   "outputs": [
    {
     "data": {
      "text/html": [
       "<div>\n",
       "<style scoped>\n",
       "    .dataframe tbody tr th:only-of-type {\n",
       "        vertical-align: middle;\n",
       "    }\n",
       "\n",
       "    .dataframe tbody tr th {\n",
       "        vertical-align: top;\n",
       "    }\n",
       "\n",
       "    .dataframe thead th {\n",
       "        text-align: right;\n",
       "    }\n",
       "</style>\n",
       "<table border=\"1\" class=\"dataframe\">\n",
       "  <thead>\n",
       "    <tr style=\"text-align: right;\">\n",
       "      <th></th>\n",
       "      <th>Open</th>\n",
       "      <th>High</th>\n",
       "      <th>Low</th>\n",
       "      <th>Close</th>\n",
       "      <th>Adj Close</th>\n",
       "      <th>Volume</th>\n",
       "    </tr>\n",
       "    <tr>\n",
       "      <th>Date</th>\n",
       "      <th></th>\n",
       "      <th></th>\n",
       "      <th></th>\n",
       "      <th></th>\n",
       "      <th></th>\n",
       "      <th></th>\n",
       "    </tr>\n",
       "  </thead>\n",
       "  <tbody>\n",
       "    <tr>\n",
       "      <th>2015-11-04</th>\n",
       "      <td>2110.600098</td>\n",
       "      <td>2114.590088</td>\n",
       "      <td>2096.979980</td>\n",
       "      <td>2102.310059</td>\n",
       "      <td>2102.310059</td>\n",
       "      <td>4078870000</td>\n",
       "    </tr>\n",
       "    <tr>\n",
       "      <th>2015-11-05</th>\n",
       "      <td>2101.679932</td>\n",
       "      <td>2108.780029</td>\n",
       "      <td>2090.409912</td>\n",
       "      <td>2099.929932</td>\n",
       "      <td>2099.929932</td>\n",
       "      <td>4051890000</td>\n",
       "    </tr>\n",
       "    <tr>\n",
       "      <th>2015-11-06</th>\n",
       "      <td>2098.600098</td>\n",
       "      <td>2101.909912</td>\n",
       "      <td>2083.739990</td>\n",
       "      <td>2099.199951</td>\n",
       "      <td>2099.199951</td>\n",
       "      <td>4369020000</td>\n",
       "    </tr>\n",
       "    <tr>\n",
       "      <th>2015-11-09</th>\n",
       "      <td>2096.560059</td>\n",
       "      <td>2096.560059</td>\n",
       "      <td>2068.239990</td>\n",
       "      <td>2078.580078</td>\n",
       "      <td>2078.580078</td>\n",
       "      <td>3882350000</td>\n",
       "    </tr>\n",
       "    <tr>\n",
       "      <th>2015-11-10</th>\n",
       "      <td>2077.189941</td>\n",
       "      <td>2083.669922</td>\n",
       "      <td>2069.909912</td>\n",
       "      <td>2081.719971</td>\n",
       "      <td>2081.719971</td>\n",
       "      <td>3821440000</td>\n",
       "    </tr>\n",
       "  </tbody>\n",
       "</table>\n",
       "</div>"
      ],
      "text/plain": [
       "                   Open         High          Low        Close    Adj Close  \\\n",
       "Date                                                                          \n",
       "2015-11-04  2110.600098  2114.590088  2096.979980  2102.310059  2102.310059   \n",
       "2015-11-05  2101.679932  2108.780029  2090.409912  2099.929932  2099.929932   \n",
       "2015-11-06  2098.600098  2101.909912  2083.739990  2099.199951  2099.199951   \n",
       "2015-11-09  2096.560059  2096.560059  2068.239990  2078.580078  2078.580078   \n",
       "2015-11-10  2077.189941  2083.669922  2069.909912  2081.719971  2081.719971   \n",
       "\n",
       "                Volume  \n",
       "Date                    \n",
       "2015-11-04  4078870000  \n",
       "2015-11-05  4051890000  \n",
       "2015-11-06  4369020000  \n",
       "2015-11-09  3882350000  \n",
       "2015-11-10  3821440000  "
      ]
     },
     "execution_count": 4,
     "metadata": {},
     "output_type": "execute_result"
    }
   ],
   "source": [
    "# Open S&P 500 historical prices\n",
    "file_path = Path(\"Resources\\S&P500_5years.csv\")\n",
    "sp500 = pd.read_csv(file_path, parse_dates=True, index_col=\"Date\", infer_datetime_format=True)\n",
    "sp500.head()"
   ]
  },
  {
   "cell_type": "code",
   "execution_count": 5,
   "metadata": {},
   "outputs": [
    {
     "data": {
      "text/html": [
       "<div>\n",
       "<style scoped>\n",
       "    .dataframe tbody tr th:only-of-type {\n",
       "        vertical-align: middle;\n",
       "    }\n",
       "\n",
       "    .dataframe tbody tr th {\n",
       "        vertical-align: top;\n",
       "    }\n",
       "\n",
       "    .dataframe thead th {\n",
       "        text-align: right;\n",
       "    }\n",
       "</style>\n",
       "<table border=\"1\" class=\"dataframe\">\n",
       "  <thead>\n",
       "    <tr style=\"text-align: right;\">\n",
       "      <th></th>\n",
       "      <th>S&amp;P500</th>\n",
       "    </tr>\n",
       "    <tr>\n",
       "      <th>Date</th>\n",
       "      <th></th>\n",
       "    </tr>\n",
       "  </thead>\n",
       "  <tbody>\n",
       "    <tr>\n",
       "      <th>2015-11-04</th>\n",
       "      <td>2102.310059</td>\n",
       "    </tr>\n",
       "    <tr>\n",
       "      <th>2015-11-05</th>\n",
       "      <td>2099.929932</td>\n",
       "    </tr>\n",
       "    <tr>\n",
       "      <th>2015-11-06</th>\n",
       "      <td>2099.199951</td>\n",
       "    </tr>\n",
       "    <tr>\n",
       "      <th>2015-11-09</th>\n",
       "      <td>2078.580078</td>\n",
       "    </tr>\n",
       "    <tr>\n",
       "      <th>2015-11-10</th>\n",
       "      <td>2081.719971</td>\n",
       "    </tr>\n",
       "    <tr>\n",
       "      <th>...</th>\n",
       "      <td>...</td>\n",
       "    </tr>\n",
       "    <tr>\n",
       "      <th>2020-10-28</th>\n",
       "      <td>3271.030029</td>\n",
       "    </tr>\n",
       "    <tr>\n",
       "      <th>2020-10-29</th>\n",
       "      <td>3310.110107</td>\n",
       "    </tr>\n",
       "    <tr>\n",
       "      <th>2020-10-30</th>\n",
       "      <td>3269.959961</td>\n",
       "    </tr>\n",
       "    <tr>\n",
       "      <th>2020-11-02</th>\n",
       "      <td>3310.239990</td>\n",
       "    </tr>\n",
       "    <tr>\n",
       "      <th>2020-11-03</th>\n",
       "      <td>3369.159912</td>\n",
       "    </tr>\n",
       "  </tbody>\n",
       "</table>\n",
       "<p>1259 rows × 1 columns</p>\n",
       "</div>"
      ],
      "text/plain": [
       "                 S&P500\n",
       "Date                   \n",
       "2015-11-04  2102.310059\n",
       "2015-11-05  2099.929932\n",
       "2015-11-06  2099.199951\n",
       "2015-11-09  2078.580078\n",
       "2015-11-10  2081.719971\n",
       "...                 ...\n",
       "2020-10-28  3271.030029\n",
       "2020-10-29  3310.110107\n",
       "2020-10-30  3269.959961\n",
       "2020-11-02  3310.239990\n",
       "2020-11-03  3369.159912\n",
       "\n",
       "[1259 rows x 1 columns]"
      ]
     },
     "execution_count": 5,
     "metadata": {},
     "output_type": "execute_result"
    }
   ],
   "source": [
    "# Fetch the closing prices of S&P500\n",
    "sp500_closing_prices = pd.DataFrame()\n",
    "sp500_closing_prices[\"S&P500\"] = sp500[\"Close\"]\n",
    "sp500_closing_prices"
   ]
  },
  {
   "cell_type": "code",
   "execution_count": 6,
   "metadata": {},
   "outputs": [
    {
     "data": {
      "text/plain": [
       "S&P500    0\n",
       "dtype: int64"
      ]
     },
     "execution_count": 6,
     "metadata": {},
     "output_type": "execute_result"
    }
   ],
   "source": [
    "#check null and cleaning data\n",
    "sp500_closing_prices.isnull().sum()"
   ]
  },
  {
   "cell_type": "code",
   "execution_count": 7,
   "metadata": {},
   "outputs": [
    {
     "data": {
      "text/html": [
       "<div>\n",
       "<style scoped>\n",
       "    .dataframe tbody tr th:only-of-type {\n",
       "        vertical-align: middle;\n",
       "    }\n",
       "\n",
       "    .dataframe tbody tr th {\n",
       "        vertical-align: top;\n",
       "    }\n",
       "\n",
       "    .dataframe thead tr th {\n",
       "        text-align: left;\n",
       "    }\n",
       "</style>\n",
       "<table border=\"1\" class=\"dataframe\">\n",
       "  <thead>\n",
       "    <tr>\n",
       "      <th></th>\n",
       "      <th colspan=\"5\" halign=\"left\">F</th>\n",
       "      <th colspan=\"5\" halign=\"left\">TSLA</th>\n",
       "    </tr>\n",
       "    <tr>\n",
       "      <th></th>\n",
       "      <th>open</th>\n",
       "      <th>high</th>\n",
       "      <th>low</th>\n",
       "      <th>close</th>\n",
       "      <th>volume</th>\n",
       "      <th>open</th>\n",
       "      <th>high</th>\n",
       "      <th>low</th>\n",
       "      <th>close</th>\n",
       "      <th>volume</th>\n",
       "    </tr>\n",
       "  </thead>\n",
       "  <tbody>\n",
       "    <tr>\n",
       "      <th>2020-08-14 00:00:00-04:00</th>\n",
       "      <td>6.97</td>\n",
       "      <td>7.11</td>\n",
       "      <td>6.930</td>\n",
       "      <td>7.0450</td>\n",
       "      <td>42011922</td>\n",
       "      <td>1664.990</td>\n",
       "      <td>1668.80</td>\n",
       "      <td>1626.6400</td>\n",
       "      <td>1651.500</td>\n",
       "      <td>11738513</td>\n",
       "    </tr>\n",
       "    <tr>\n",
       "      <th>2020-08-17 00:00:00-04:00</th>\n",
       "      <td>7.05</td>\n",
       "      <td>7.06</td>\n",
       "      <td>6.870</td>\n",
       "      <td>6.9800</td>\n",
       "      <td>121573192</td>\n",
       "      <td>1677.000</td>\n",
       "      <td>1845.86</td>\n",
       "      <td>1672.8300</td>\n",
       "      <td>1835.860</td>\n",
       "      <td>19482112</td>\n",
       "    </tr>\n",
       "    <tr>\n",
       "      <th>2020-08-18 00:00:00-04:00</th>\n",
       "      <td>6.98</td>\n",
       "      <td>7.01</td>\n",
       "      <td>6.885</td>\n",
       "      <td>6.8900</td>\n",
       "      <td>75235813</td>\n",
       "      <td>1898.990</td>\n",
       "      <td>1923.90</td>\n",
       "      <td>1845.1100</td>\n",
       "      <td>1888.110</td>\n",
       "      <td>15300121</td>\n",
       "    </tr>\n",
       "    <tr>\n",
       "      <th>2020-08-19 00:00:00-04:00</th>\n",
       "      <td>6.89</td>\n",
       "      <td>7.02</td>\n",
       "      <td>6.860</td>\n",
       "      <td>6.8700</td>\n",
       "      <td>85291236</td>\n",
       "      <td>1865.000</td>\n",
       "      <td>1911.00</td>\n",
       "      <td>1841.2100</td>\n",
       "      <td>1879.000</td>\n",
       "      <td>11776286</td>\n",
       "    </tr>\n",
       "    <tr>\n",
       "      <th>2020-08-20 00:00:00-04:00</th>\n",
       "      <td>6.77</td>\n",
       "      <td>6.89</td>\n",
       "      <td>6.730</td>\n",
       "      <td>6.8402</td>\n",
       "      <td>75910134</td>\n",
       "      <td>1860.680</td>\n",
       "      <td>2021.99</td>\n",
       "      <td>1857.0600</td>\n",
       "      <td>2001.300</td>\n",
       "      <td>20432043</td>\n",
       "    </tr>\n",
       "    <tr>\n",
       "      <th>2020-08-21 00:00:00-04:00</th>\n",
       "      <td>6.78</td>\n",
       "      <td>6.85</td>\n",
       "      <td>6.650</td>\n",
       "      <td>6.6672</td>\n",
       "      <td>75881926</td>\n",
       "      <td>2044.760</td>\n",
       "      <td>2095.49</td>\n",
       "      <td>2025.0500</td>\n",
       "      <td>2050.000</td>\n",
       "      <td>20572968</td>\n",
       "    </tr>\n",
       "    <tr>\n",
       "      <th>2020-08-24 00:00:00-04:00</th>\n",
       "      <td>6.73</td>\n",
       "      <td>7.00</td>\n",
       "      <td>6.690</td>\n",
       "      <td>6.9900</td>\n",
       "      <td>125312866</td>\n",
       "      <td>2126.275</td>\n",
       "      <td>2129.00</td>\n",
       "      <td>1927.5200</td>\n",
       "      <td>2015.695</td>\n",
       "      <td>19295383</td>\n",
       "    </tr>\n",
       "    <tr>\n",
       "      <th>2020-08-25 00:00:00-04:00</th>\n",
       "      <td>7.01</td>\n",
       "      <td>7.10</td>\n",
       "      <td>6.860</td>\n",
       "      <td>6.9400</td>\n",
       "      <td>93824717</td>\n",
       "      <td>1974.890</td>\n",
       "      <td>2027.95</td>\n",
       "      <td>1968.0000</td>\n",
       "      <td>2024.090</td>\n",
       "      <td>10051608</td>\n",
       "    </tr>\n",
       "    <tr>\n",
       "      <th>2020-08-26 00:00:00-04:00</th>\n",
       "      <td>6.94</td>\n",
       "      <td>6.97</td>\n",
       "      <td>6.770</td>\n",
       "      <td>6.8200</td>\n",
       "      <td>92408205</td>\n",
       "      <td>2060.000</td>\n",
       "      <td>2166.00</td>\n",
       "      <td>2053.6292</td>\n",
       "      <td>2151.930</td>\n",
       "      <td>13768358</td>\n",
       "    </tr>\n",
       "    <tr>\n",
       "      <th>2020-08-27 00:00:00-04:00</th>\n",
       "      <td>6.83</td>\n",
       "      <td>6.98</td>\n",
       "      <td>6.830</td>\n",
       "      <td>6.9100</td>\n",
       "      <td>89463594</td>\n",
       "      <td>2180.460</td>\n",
       "      <td>2295.60</td>\n",
       "      <td>2142.5000</td>\n",
       "      <td>2239.760</td>\n",
       "      <td>23059123</td>\n",
       "    </tr>\n",
       "  </tbody>\n",
       "</table>\n",
       "</div>"
      ],
      "text/plain": [
       "                              F                                      TSLA  \\\n",
       "                           open  high    low   close     volume      open   \n",
       "2020-08-14 00:00:00-04:00  6.97  7.11  6.930  7.0450   42011922  1664.990   \n",
       "2020-08-17 00:00:00-04:00  7.05  7.06  6.870  6.9800  121573192  1677.000   \n",
       "2020-08-18 00:00:00-04:00  6.98  7.01  6.885  6.8900   75235813  1898.990   \n",
       "2020-08-19 00:00:00-04:00  6.89  7.02  6.860  6.8700   85291236  1865.000   \n",
       "2020-08-20 00:00:00-04:00  6.77  6.89  6.730  6.8402   75910134  1860.680   \n",
       "2020-08-21 00:00:00-04:00  6.78  6.85  6.650  6.6672   75881926  2044.760   \n",
       "2020-08-24 00:00:00-04:00  6.73  7.00  6.690  6.9900  125312866  2126.275   \n",
       "2020-08-25 00:00:00-04:00  7.01  7.10  6.860  6.9400   93824717  1974.890   \n",
       "2020-08-26 00:00:00-04:00  6.94  6.97  6.770  6.8200   92408205  2060.000   \n",
       "2020-08-27 00:00:00-04:00  6.83  6.98  6.830  6.9100   89463594  2180.460   \n",
       "\n",
       "                                                                   \n",
       "                              high        low     close    volume  \n",
       "2020-08-14 00:00:00-04:00  1668.80  1626.6400  1651.500  11738513  \n",
       "2020-08-17 00:00:00-04:00  1845.86  1672.8300  1835.860  19482112  \n",
       "2020-08-18 00:00:00-04:00  1923.90  1845.1100  1888.110  15300121  \n",
       "2020-08-19 00:00:00-04:00  1911.00  1841.2100  1879.000  11776286  \n",
       "2020-08-20 00:00:00-04:00  2021.99  1857.0600  2001.300  20432043  \n",
       "2020-08-21 00:00:00-04:00  2095.49  2025.0500  2050.000  20572968  \n",
       "2020-08-24 00:00:00-04:00  2129.00  1927.5200  2015.695  19295383  \n",
       "2020-08-25 00:00:00-04:00  2027.95  1968.0000  2024.090  10051608  \n",
       "2020-08-26 00:00:00-04:00  2166.00  2053.6292  2151.930  13768358  \n",
       "2020-08-27 00:00:00-04:00  2295.60  2142.5000  2239.760  23059123  "
      ]
     },
     "execution_count": 7,
     "metadata": {},
     "output_type": "execute_result"
    }
   ],
   "source": [
    "###Set the tickers\n",
    "tickers = [\"F\", \"TSLA\"]\n",
    "###Set timeframe to '1D' for Alpaca API\n",
    "timeframe = \"1D\"\n",
    "# Set start and end datetimes \n",
    "start_date = pd.Timestamp(\"2015-01-01\", tz=\"America/New_York\").isoformat()\n",
    "end_date = pd.Timestamp(\"2020-08-27\", tz=\"America/New_York\").isoformat()\n",
    "\n",
    "# Get historical data \n",
    "df_ticker = alpaca.get_barset(\n",
    "    tickers,\n",
    "    timeframe,\n",
    "    start=start_date,\n",
    "    end=end_date\n",
    ").df\n",
    "\n",
    "df_ticker.tail(10)"
   ]
  },
  {
   "cell_type": "code",
   "execution_count": 8,
   "metadata": {},
   "outputs": [
    {
     "data": {
      "text/html": [
       "<div>\n",
       "<style scoped>\n",
       "    .dataframe tbody tr th:only-of-type {\n",
       "        vertical-align: middle;\n",
       "    }\n",
       "\n",
       "    .dataframe tbody tr th {\n",
       "        vertical-align: top;\n",
       "    }\n",
       "\n",
       "    .dataframe thead th {\n",
       "        text-align: right;\n",
       "    }\n",
       "</style>\n",
       "<table border=\"1\" class=\"dataframe\">\n",
       "  <thead>\n",
       "    <tr style=\"text-align: right;\">\n",
       "      <th></th>\n",
       "      <th>FORD</th>\n",
       "      <th>TESLA</th>\n",
       "    </tr>\n",
       "  </thead>\n",
       "  <tbody>\n",
       "    <tr>\n",
       "      <th>2015-01-02</th>\n",
       "      <td>15.3500</td>\n",
       "      <td>219.190</td>\n",
       "    </tr>\n",
       "    <tr>\n",
       "      <th>2015-01-05</th>\n",
       "      <td>14.7600</td>\n",
       "      <td>210.010</td>\n",
       "    </tr>\n",
       "    <tr>\n",
       "      <th>2015-01-06</th>\n",
       "      <td>14.6200</td>\n",
       "      <td>211.190</td>\n",
       "    </tr>\n",
       "    <tr>\n",
       "      <th>2015-01-07</th>\n",
       "      <td>15.0400</td>\n",
       "      <td>210.810</td>\n",
       "    </tr>\n",
       "    <tr>\n",
       "      <th>2015-01-08</th>\n",
       "      <td>15.4200</td>\n",
       "      <td>210.550</td>\n",
       "    </tr>\n",
       "    <tr>\n",
       "      <th>...</th>\n",
       "      <td>...</td>\n",
       "      <td>...</td>\n",
       "    </tr>\n",
       "    <tr>\n",
       "      <th>2020-08-21</th>\n",
       "      <td>6.6672</td>\n",
       "      <td>2050.000</td>\n",
       "    </tr>\n",
       "    <tr>\n",
       "      <th>2020-08-24</th>\n",
       "      <td>6.9900</td>\n",
       "      <td>2015.695</td>\n",
       "    </tr>\n",
       "    <tr>\n",
       "      <th>2020-08-25</th>\n",
       "      <td>6.9400</td>\n",
       "      <td>2024.090</td>\n",
       "    </tr>\n",
       "    <tr>\n",
       "      <th>2020-08-26</th>\n",
       "      <td>6.8200</td>\n",
       "      <td>2151.930</td>\n",
       "    </tr>\n",
       "    <tr>\n",
       "      <th>2020-08-27</th>\n",
       "      <td>6.9100</td>\n",
       "      <td>2239.760</td>\n",
       "    </tr>\n",
       "  </tbody>\n",
       "</table>\n",
       "<p>1424 rows × 2 columns</p>\n",
       "</div>"
      ],
      "text/plain": [
       "               FORD     TESLA\n",
       "2015-01-02  15.3500   219.190\n",
       "2015-01-05  14.7600   210.010\n",
       "2015-01-06  14.6200   211.190\n",
       "2015-01-07  15.0400   210.810\n",
       "2015-01-08  15.4200   210.550\n",
       "...             ...       ...\n",
       "2020-08-21   6.6672  2050.000\n",
       "2020-08-24   6.9900  2015.695\n",
       "2020-08-25   6.9400  2024.090\n",
       "2020-08-26   6.8200  2151.930\n",
       "2020-08-27   6.9100  2239.760\n",
       "\n",
       "[1424 rows x 2 columns]"
      ]
     },
     "execution_count": 8,
     "metadata": {},
     "output_type": "execute_result"
    }
   ],
   "source": [
    "# Create and empty DataFrame for closing prices\n",
    "df_closing_prices = pd.DataFrame()\n",
    "\n",
    "# Fetch the closing prices of KO and TSLA\n",
    "df_closing_prices[\"FORD\"] = df_ticker[\"F\"][\"close\"]\n",
    "df_closing_prices[\"TESLA\"] = df_ticker[\"TSLA\"][\"close\"]\n",
    "\n",
    "# Drop the time component of the date\n",
    "df_closing_prices.index = df_closing_prices.index.date\n",
    "\n",
    "df_closing_prices"
   ]
  },
  {
   "cell_type": "code",
   "execution_count": 9,
   "metadata": {},
   "outputs": [
    {
     "data": {
      "text/html": [
       "<div>\n",
       "<style scoped>\n",
       "    .dataframe tbody tr th:only-of-type {\n",
       "        vertical-align: middle;\n",
       "    }\n",
       "\n",
       "    .dataframe tbody tr th {\n",
       "        vertical-align: top;\n",
       "    }\n",
       "\n",
       "    .dataframe thead th {\n",
       "        text-align: right;\n",
       "    }\n",
       "</style>\n",
       "<table border=\"1\" class=\"dataframe\">\n",
       "  <thead>\n",
       "    <tr style=\"text-align: right;\">\n",
       "      <th></th>\n",
       "      <th>FORD</th>\n",
       "      <th>TESLA</th>\n",
       "      <th>S&amp;P500</th>\n",
       "    </tr>\n",
       "  </thead>\n",
       "  <tbody>\n",
       "    <tr>\n",
       "      <th>2015-11-04</th>\n",
       "      <td>14.65</td>\n",
       "      <td>231.65</td>\n",
       "      <td>2102.310059</td>\n",
       "    </tr>\n",
       "    <tr>\n",
       "      <th>2015-11-05</th>\n",
       "      <td>14.56</td>\n",
       "      <td>231.70</td>\n",
       "      <td>2099.929932</td>\n",
       "    </tr>\n",
       "    <tr>\n",
       "      <th>2015-11-06</th>\n",
       "      <td>14.52</td>\n",
       "      <td>232.35</td>\n",
       "      <td>2099.199951</td>\n",
       "    </tr>\n",
       "    <tr>\n",
       "      <th>2015-11-09</th>\n",
       "      <td>14.34</td>\n",
       "      <td>225.16</td>\n",
       "      <td>2078.580078</td>\n",
       "    </tr>\n",
       "    <tr>\n",
       "      <th>2015-11-10</th>\n",
       "      <td>14.28</td>\n",
       "      <td>216.50</td>\n",
       "      <td>2081.719971</td>\n",
       "    </tr>\n",
       "  </tbody>\n",
       "</table>\n",
       "</div>"
      ],
      "text/plain": [
       "             FORD   TESLA       S&P500\n",
       "2015-11-04  14.65  231.65  2102.310059\n",
       "2015-11-05  14.56  231.70  2099.929932\n",
       "2015-11-06  14.52  232.35  2099.199951\n",
       "2015-11-09  14.34  225.16  2078.580078\n",
       "2015-11-10  14.28  216.50  2081.719971"
      ]
     },
     "execution_count": 9,
     "metadata": {},
     "output_type": "execute_result"
    }
   ],
   "source": [
    "#Concatenate STOCKS & INDEX\n",
    "all_closing_prices = pd.concat([df_closing_prices, sp500_closing_prices], axis=\"columns\", join=\"inner\")\n",
    "all_closing_prices.head()"
   ]
  },
  {
   "cell_type": "code",
   "execution_count": 10,
   "metadata": {},
   "outputs": [
    {
     "data": {
      "text/html": [
       "<div>\n",
       "<style scoped>\n",
       "    .dataframe tbody tr th:only-of-type {\n",
       "        vertical-align: middle;\n",
       "    }\n",
       "\n",
       "    .dataframe tbody tr th {\n",
       "        vertical-align: top;\n",
       "    }\n",
       "\n",
       "    .dataframe thead th {\n",
       "        text-align: right;\n",
       "    }\n",
       "</style>\n",
       "<table border=\"1\" class=\"dataframe\">\n",
       "  <thead>\n",
       "    <tr style=\"text-align: right;\">\n",
       "      <th></th>\n",
       "      <th>FORD</th>\n",
       "      <th>TESLA</th>\n",
       "      <th>S&amp;P500</th>\n",
       "    </tr>\n",
       "  </thead>\n",
       "  <tbody>\n",
       "    <tr>\n",
       "      <th>2020-08-14</th>\n",
       "      <td>0.002134</td>\n",
       "      <td>0.018998</td>\n",
       "      <td>-0.000172</td>\n",
       "    </tr>\n",
       "    <tr>\n",
       "      <th>2020-08-17</th>\n",
       "      <td>-0.009226</td>\n",
       "      <td>0.111632</td>\n",
       "      <td>0.002710</td>\n",
       "    </tr>\n",
       "    <tr>\n",
       "      <th>2020-08-18</th>\n",
       "      <td>-0.012894</td>\n",
       "      <td>0.028461</td>\n",
       "      <td>0.002303</td>\n",
       "    </tr>\n",
       "    <tr>\n",
       "      <th>2020-08-19</th>\n",
       "      <td>-0.002903</td>\n",
       "      <td>-0.004825</td>\n",
       "      <td>-0.004404</td>\n",
       "    </tr>\n",
       "    <tr>\n",
       "      <th>2020-08-20</th>\n",
       "      <td>-0.004338</td>\n",
       "      <td>0.065088</td>\n",
       "      <td>0.003159</td>\n",
       "    </tr>\n",
       "    <tr>\n",
       "      <th>2020-08-21</th>\n",
       "      <td>-0.025292</td>\n",
       "      <td>0.024334</td>\n",
       "      <td>0.003441</td>\n",
       "    </tr>\n",
       "    <tr>\n",
       "      <th>2020-08-24</th>\n",
       "      <td>0.048416</td>\n",
       "      <td>-0.016734</td>\n",
       "      <td>0.010044</td>\n",
       "    </tr>\n",
       "    <tr>\n",
       "      <th>2020-08-25</th>\n",
       "      <td>-0.007153</td>\n",
       "      <td>0.004165</td>\n",
       "      <td>0.003596</td>\n",
       "    </tr>\n",
       "    <tr>\n",
       "      <th>2020-08-26</th>\n",
       "      <td>-0.017291</td>\n",
       "      <td>0.063159</td>\n",
       "      <td>0.010196</td>\n",
       "    </tr>\n",
       "    <tr>\n",
       "      <th>2020-08-27</th>\n",
       "      <td>0.013196</td>\n",
       "      <td>0.040815</td>\n",
       "      <td>0.001673</td>\n",
       "    </tr>\n",
       "  </tbody>\n",
       "</table>\n",
       "</div>"
      ],
      "text/plain": [
       "                FORD     TESLA    S&P500\n",
       "2020-08-14  0.002134  0.018998 -0.000172\n",
       "2020-08-17 -0.009226  0.111632  0.002710\n",
       "2020-08-18 -0.012894  0.028461  0.002303\n",
       "2020-08-19 -0.002903 -0.004825 -0.004404\n",
       "2020-08-20 -0.004338  0.065088  0.003159\n",
       "2020-08-21 -0.025292  0.024334  0.003441\n",
       "2020-08-24  0.048416 -0.016734  0.010044\n",
       "2020-08-25 -0.007153  0.004165  0.003596\n",
       "2020-08-26 -0.017291  0.063159  0.010196\n",
       "2020-08-27  0.013196  0.040815  0.001673"
      ]
     },
     "execution_count": 10,
     "metadata": {},
     "output_type": "execute_result"
    }
   ],
   "source": [
    "# Compute daily returns\n",
    "df_daily_returns = all_closing_prices.pct_change().dropna()\n",
    "\n",
    "# Display sample data\n",
    "df_daily_returns.tail(10)"
   ]
  },
  {
   "cell_type": "code",
   "execution_count": 11,
   "metadata": {},
   "outputs": [
    {
     "data": {
      "text/plain": [
       "<matplotlib.axes._subplots.AxesSubplot at 0x214941ecc10>"
      ]
     },
     "execution_count": 11,
     "metadata": {},
     "output_type": "execute_result"
    },
    {
     "data": {
      "image/png": "[encoded data removed]",
      "text/plain": [
       "<Figure size 720x360 with 1 Axes>"
      ]
     },
     "metadata": {
      "needs_background": "light"
     },
     "output_type": "display_data"
    }
   ],
   "source": [
    "df_daily_returns.plot(figsize=(10,5))"
   ]
  },
  {
   "cell_type": "code",
   "execution_count": 12,
   "metadata": {},
   "outputs": [
    {
     "data": {
      "text/plain": [
       "<matplotlib.axes._subplots.AxesSubplot at 0x2149467cdc0>"
      ]
     },
     "execution_count": 12,
     "metadata": {},
     "output_type": "execute_result"
    },
    {
     "data": {
      "image/png": "[encoded data removed]",
      "text/plain": [
       "<Figure size 720x360 with 1 Axes>"
      ]
     },
     "metadata": {
      "needs_background": "light"
     },
     "output_type": "display_data"
    }
   ],
   "source": [
    "df_cumulative = (1 + df_daily_returns).cumprod()\n",
    "df_cumulative.plot(figsize=(10,5))"
   ]
  },
  {
   "cell_type": "code",
   "execution_count": 13,
   "metadata": {},
   "outputs": [
    {
     "data": {
      "text/plain": [
       "<matplotlib.axes._subplots.AxesSubplot at 0x214945fd2e0>"
      ]
     },
     "execution_count": 13,
     "metadata": {},
     "output_type": "execute_result"
    },
    {
     "data": {
      "image/png": "[encoded data removed]",
      "text/plain": [
       "<Figure size 1440x720 with 1 Axes>"
      ]
     },
     "metadata": {
      "needs_background": "light"
     },
     "output_type": "display_data"
    }
   ],
   "source": [
    "df_cumulative.plot.box(figsize=(20,10))"
   ]
  },
  {
   "cell_type": "code",
   "execution_count": 14,
   "metadata": {},
   "outputs": [
    {
     "data": {
      "text/html": [
       "<div>\n",
       "<style scoped>\n",
       "    .dataframe tbody tr th:only-of-type {\n",
       "        vertical-align: middle;\n",
       "    }\n",
       "\n",
       "    .dataframe tbody tr th {\n",
       "        vertical-align: top;\n",
       "    }\n",
       "\n",
       "    .dataframe thead th {\n",
       "        text-align: right;\n",
       "    }\n",
       "</style>\n",
       "<table border=\"1\" class=\"dataframe\">\n",
       "  <thead>\n",
       "    <tr style=\"text-align: right;\">\n",
       "      <th></th>\n",
       "      <th>FORD</th>\n",
       "      <th>TESLA</th>\n",
       "      <th>S&amp;P500</th>\n",
       "    </tr>\n",
       "  </thead>\n",
       "  <tbody>\n",
       "    <tr>\n",
       "      <th>count</th>\n",
       "      <td>1211.000000</td>\n",
       "      <td>1211.000000</td>\n",
       "      <td>1211.000000</td>\n",
       "    </tr>\n",
       "    <tr>\n",
       "      <th>mean</th>\n",
       "      <td>-0.000401</td>\n",
       "      <td>0.002480</td>\n",
       "      <td>0.000491</td>\n",
       "    </tr>\n",
       "    <tr>\n",
       "      <th>std</th>\n",
       "      <td>0.021013</td>\n",
       "      <td>0.034885</td>\n",
       "      <td>0.012086</td>\n",
       "    </tr>\n",
       "    <tr>\n",
       "      <th>min</th>\n",
       "      <td>-0.111901</td>\n",
       "      <td>-0.185317</td>\n",
       "      <td>-0.119841</td>\n",
       "    </tr>\n",
       "    <tr>\n",
       "      <th>25%</th>\n",
       "      <td>-0.009287</td>\n",
       "      <td>-0.013965</td>\n",
       "      <td>-0.002908</td>\n",
       "    </tr>\n",
       "    <tr>\n",
       "      <th>50%</th>\n",
       "      <td>0.000000</td>\n",
       "      <td>0.001118</td>\n",
       "      <td>0.000676</td>\n",
       "    </tr>\n",
       "    <tr>\n",
       "      <th>75%</th>\n",
       "      <td>0.008578</td>\n",
       "      <td>0.017588</td>\n",
       "      <td>0.005035</td>\n",
       "    </tr>\n",
       "    <tr>\n",
       "      <th>max</th>\n",
       "      <td>0.229927</td>\n",
       "      <td>0.199545</td>\n",
       "      <td>0.093828</td>\n",
       "    </tr>\n",
       "  </tbody>\n",
       "</table>\n",
       "</div>"
      ],
      "text/plain": [
       "              FORD        TESLA       S&P500\n",
       "count  1211.000000  1211.000000  1211.000000\n",
       "mean     -0.000401     0.002480     0.000491\n",
       "std       0.021013     0.034885     0.012086\n",
       "min      -0.111901    -0.185317    -0.119841\n",
       "25%      -0.009287    -0.013965    -0.002908\n",
       "50%       0.000000     0.001118     0.000676\n",
       "75%       0.008578     0.017588     0.005035\n",
       "max       0.229927     0.199545     0.093828"
      ]
     },
     "execution_count": 14,
     "metadata": {},
     "output_type": "execute_result"
    }
   ],
   "source": [
    "df_daily_returns.describe()"
   ]
  },
  {
   "cell_type": "code",
   "execution_count": 15,
   "metadata": {},
   "outputs": [
    {
     "name": "stdout",
     "output_type": "stream",
     "text": [
      "TESLA covariance returns vs S&P500 is: 0.00017936639002613552\n"
     ]
    }
   ],
   "source": [
    "###Calculate and plot beta of TESLA and the S&P500.\n",
    "###Calculate covariance of TESLA\n",
    "covariance_tesla = df_daily_returns['TESLA'].cov(df_daily_returns['S&P500'])\n",
    "print(f'TESLA covariance returns vs S&P500 is: {covariance_tesla}')"
   ]
  },
  {
   "cell_type": "code",
   "execution_count": 16,
   "metadata": {},
   "outputs": [
    {
     "name": "stdout",
     "output_type": "stream",
     "text": [
      "Variance of S&P500 is : 0.00014606847303478038\n"
     ]
    }
   ],
   "source": [
    "###Calculate variance of S&P500\n",
    "variance_tesla = df_daily_returns['S&P500'].var()\n",
    "print(f\"Variance of S&P500 is : {variance_tesla}\")"
   ]
  },
  {
   "cell_type": "code",
   "execution_count": 17,
   "metadata": {},
   "outputs": [
    {
     "name": "stdout",
     "output_type": "stream",
     "text": [
      "Beta of TESLA is: 1.2279610123905833\n"
     ]
    }
   ],
   "source": [
    "###Calculating beta of Algo 1\n",
    "###Plot beta trend\n",
    "beta_tesla = covariance_tesla / variance_tesla\n",
    "print(f'Beta of TESLA is: {beta_tesla}')"
   ]
  },
  {
   "cell_type": "code",
   "execution_count": 18,
   "metadata": {},
   "outputs": [
    {
     "data": {
      "text/plain": [
       "<seaborn.axisgrid.FacetGrid at 0x21494a16850>"
      ]
     },
     "execution_count": 18,
     "metadata": {},
     "output_type": "execute_result"
    },
    {
     "data": {
      "image/png": "[encoded data removed]",
      "text/plain": [
       "<Figure size 540x360 with 1 Axes>"
      ]
     },
     "metadata": {
      "needs_background": "light"
     },
     "output_type": "display_data"
    }
   ],
   "source": [
    "sns.lmplot(x=\"S&P500\", y=\"TESLA\", data=df_daily_returns, aspect=1.5, fit_reg=True)"
   ]
  },
  {
   "cell_type": "code",
   "execution_count": 19,
   "metadata": {},
   "outputs": [
    {
     "data": {
      "text/html": [
       "<div>\n",
       "<style scoped>\n",
       "    .dataframe tbody tr th:only-of-type {\n",
       "        vertical-align: middle;\n",
       "    }\n",
       "\n",
       "    .dataframe tbody tr th {\n",
       "        vertical-align: top;\n",
       "    }\n",
       "\n",
       "    .dataframe thead th {\n",
       "        text-align: right;\n",
       "    }\n",
       "</style>\n",
       "<table border=\"1\" class=\"dataframe\">\n",
       "  <thead>\n",
       "    <tr style=\"text-align: right;\">\n",
       "      <th></th>\n",
       "      <th>Nov/2015</th>\n",
       "      <th>Aug/2020</th>\n",
       "      <th>% diff</th>\n",
       "    </tr>\n",
       "  </thead>\n",
       "  <tbody>\n",
       "    <tr>\n",
       "      <th>FORD</th>\n",
       "      <td>15.35</td>\n",
       "      <td>6.91</td>\n",
       "      <td>45.016287</td>\n",
       "    </tr>\n",
       "    <tr>\n",
       "      <th>TESLA</th>\n",
       "      <td>219.19</td>\n",
       "      <td>2239.76</td>\n",
       "      <td>1021.834938</td>\n",
       "    </tr>\n",
       "  </tbody>\n",
       "</table>\n",
       "</div>"
      ],
      "text/plain": [
       "       Nov/2015  Aug/2020       % diff\n",
       "FORD      15.35      6.91    45.016287\n",
       "TESLA    219.19   2239.76  1021.834938"
      ]
     },
     "execution_count": 19,
     "metadata": {},
     "output_type": "execute_result"
    }
   ],
   "source": [
    "# Create an empty DataFrame for closing prices\n",
    "fiveyears_closing_prices = pd.DataFrame()\n",
    "\n",
    "# Fetch the closing prices of FB and TWTR\n",
    "fiveyears_closing_prices[\"Nov/2015\"] = df_closing_prices.iloc[0]\n",
    "fiveyears_closing_prices[\"Aug/2020\"] = df_closing_prices.iloc[-1]\n",
    "fiveyears_closing_prices[\"% diff\"] = (fiveyears_closing_prices[\"Aug/2020\"] / fiveyears_closing_prices[\"Nov/2015\"]) * 100\n",
    "\n",
    "fiveyears_closing_prices"
   ]
  },
  {
   "cell_type": "code",
   "execution_count": 20,
   "metadata": {},
   "outputs": [
    {
     "name": "stdout",
     "output_type": "stream",
     "text": [
      "If you have invested $10000 over 5 years in FORD stock your balance would be $4501.628664495114 but if you have invested in tesla instead your balance would be $102183.49377252613\n"
     ]
    }
   ],
   "source": [
    " # Use the results to calculate the outcome of our initial $10,000 of investment in Apple and Tesla stocks\n",
    "initial_investiment = 10000\n",
    "ford_fv = initial_investiment * (fiveyears_closing_prices.iloc[0,2] / 100)\n",
    "tsla_fv = initial_investiment * (fiveyears_closing_prices.iloc[1,2] / 100)\n",
    "\n",
    "# Print results\n",
    "print(f\"If you have invested ${initial_investiment} over 5 years in FORD stock your balance would be ${ford_fv}\"\n",
    "      f\" but if you have invested in tesla instead your balance would be ${tsla_fv}\")"
   ]
  },
  {
   "cell_type": "code",
   "execution_count": 21,
   "metadata": {},
   "outputs": [
    {
     "data": {
      "text/html": [
       "<div>\n",
       "<style scoped>\n",
       "    .dataframe tbody tr th:only-of-type {\n",
       "        vertical-align: middle;\n",
       "    }\n",
       "\n",
       "    .dataframe tbody tr th {\n",
       "        vertical-align: top;\n",
       "    }\n",
       "\n",
       "    .dataframe thead th {\n",
       "        text-align: right;\n",
       "    }\n",
       "</style>\n",
       "<table border=\"1\" class=\"dataframe\">\n",
       "  <thead>\n",
       "    <tr style=\"text-align: right;\">\n",
       "      <th></th>\n",
       "      <th>FORD</th>\n",
       "      <th>TESLA</th>\n",
       "      <th>S&amp;P500</th>\n",
       "    </tr>\n",
       "  </thead>\n",
       "  <tbody>\n",
       "    <tr>\n",
       "      <th>count</th>\n",
       "      <td>1211.000000</td>\n",
       "      <td>1211.000000</td>\n",
       "      <td>1211.000000</td>\n",
       "    </tr>\n",
       "    <tr>\n",
       "      <th>mean</th>\n",
       "      <td>-0.000401</td>\n",
       "      <td>0.002480</td>\n",
       "      <td>0.000491</td>\n",
       "    </tr>\n",
       "    <tr>\n",
       "      <th>std</th>\n",
       "      <td>0.021013</td>\n",
       "      <td>0.034885</td>\n",
       "      <td>0.012086</td>\n",
       "    </tr>\n",
       "    <tr>\n",
       "      <th>min</th>\n",
       "      <td>-0.111901</td>\n",
       "      <td>-0.185317</td>\n",
       "      <td>-0.119841</td>\n",
       "    </tr>\n",
       "    <tr>\n",
       "      <th>25%</th>\n",
       "      <td>-0.009287</td>\n",
       "      <td>-0.013965</td>\n",
       "      <td>-0.002908</td>\n",
       "    </tr>\n",
       "    <tr>\n",
       "      <th>50%</th>\n",
       "      <td>0.000000</td>\n",
       "      <td>0.001118</td>\n",
       "      <td>0.000676</td>\n",
       "    </tr>\n",
       "    <tr>\n",
       "      <th>75%</th>\n",
       "      <td>0.008578</td>\n",
       "      <td>0.017588</td>\n",
       "      <td>0.005035</td>\n",
       "    </tr>\n",
       "    <tr>\n",
       "      <th>max</th>\n",
       "      <td>0.229927</td>\n",
       "      <td>0.199545</td>\n",
       "      <td>0.093828</td>\n",
       "    </tr>\n",
       "  </tbody>\n",
       "</table>\n",
       "</div>"
      ],
      "text/plain": [
       "              FORD        TESLA       S&P500\n",
       "count  1211.000000  1211.000000  1211.000000\n",
       "mean     -0.000401     0.002480     0.000491\n",
       "std       0.021013     0.034885     0.012086\n",
       "min      -0.111901    -0.185317    -0.119841\n",
       "25%      -0.009287    -0.013965    -0.002908\n",
       "50%       0.000000     0.001118     0.000676\n",
       "75%       0.008578     0.017588     0.005035\n",
       "max       0.229927     0.199545     0.093828"
      ]
     },
     "execution_count": 21,
     "metadata": {},
     "output_type": "execute_result"
    }
   ],
   "source": [
    "df_daily_returns.describe()"
   ]
  },
  {
   "cell_type": "code",
   "execution_count": 22,
   "metadata": {},
   "outputs": [
    {
     "data": {
      "text/plain": [
       "<matplotlib.axes._subplots.AxesSubplot at 0x21494ab8d00>"
      ]
     },
     "execution_count": 22,
     "metadata": {},
     "output_type": "execute_result"
    },
    {
     "data": {
      "image/png": "[encoded data removed]",
      "text/plain": [
       "<Figure size 432x288 with 1 Axes>"
      ]
     },
     "metadata": {
      "needs_background": "light"
     },
     "output_type": "display_data"
    }
   ],
   "source": [
    "df_daily_returns[\"FORD\"].plot.hist()"
   ]
  },
  {
   "cell_type": "code",
   "execution_count": 23,
   "metadata": {},
   "outputs": [
    {
     "data": {
      "text/plain": [
       "<matplotlib.axes._subplots.AxesSubplot at 0x21494165520>"
      ]
     },
     "execution_count": 23,
     "metadata": {},
     "output_type": "execute_result"
    },
    {
     "data": {
      "image/png": "[encoded data removed]",
      "text/plain": [
       "<Figure size 432x288 with 1 Axes>"
      ]
     },
     "metadata": {
      "needs_background": "light"
     },
     "output_type": "display_data"
    }
   ],
   "source": [
    "df_daily_returns[\"TESLA\"].plot.hist()"
   ]
  },
  {
   "cell_type": "code",
   "execution_count": 24,
   "metadata": {},
   "outputs": [
    {
     "data": {
      "text/plain": [
       "<matplotlib.axes._subplots.AxesSubplot at 0x21494b9bd60>"
      ]
     },
     "execution_count": 24,
     "metadata": {},
     "output_type": "execute_result"
    },
    {
     "data": {
      "image/png": "[encoded data removed]",
      "text/plain": [
       "<Figure size 432x288 with 1 Axes>"
      ]
     },
     "metadata": {
      "needs_background": "light"
     },
     "output_type": "display_data"
    }
   ],
   "source": [
    "#Plot.density of TESLA and FORD\n",
    "txl_closing_prices = df_closing_prices.pct_change().dropna()\n",
    "txl_closing_prices.plot.density()"
   ]
  }
 ],
 "metadata": {
  "kernelspec": {
   "display_name": "Python 3",
   "language": "python",
   "name": "python3"
  },
  "language_info": {
   "codemirror_mode": {
    "name": "ipython",
    "version": 3
   },
   "file_extension": ".py",
   "mimetype": "text/x-python",
   "name": "python",
   "nbconvert_exporter": "python",
   "pygments_lexer": "ipython3",
   "version": "3.8.3"
  }
 },
 "nbformat": 4,
 "nbformat_minor": 4
}
