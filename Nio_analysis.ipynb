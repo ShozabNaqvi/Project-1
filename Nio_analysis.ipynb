{
 "cells": [
  {
   "cell_type": "code",
   "execution_count": 1,
   "metadata": {},
   "outputs": [],
   "source": [
    "# Import libraries and dependencies\n",
    "import os\n",
    "import numpy as np\n",
    "import pandas as pd\n",
    "import matplotlib.pyplot as plt\n",
    "import alpaca_trade_api as tradeapi\n",
    "from MCForecastTools import MCSimulation\n",
    "\n",
    "%matplotlib inline"
   ]
  },
  {
   "cell_type": "code",
   "execution_count": 2,
   "metadata": {},
   "outputs": [
    {
     "name": "stdout",
     "output_type": "stream",
     "text": [
      "Alpaca Key type: <class 'str'>\n",
      "Alpaca Secret Key type: <class 'str'>\n"
     ]
    }
   ],
   "source": [
    "# Load .env enviroment variables\n",
    "from dotenv import load_dotenv\n",
    "load_dotenv()\n",
    "\n",
    "###Load the environment variables from your .env file and save the Alpaca keys as Python variables\n",
    "alpaca_api_key = os.getenv(\"api_key_id\")\n",
    "alpaca_secret_key = os.getenv(\"secret_api_key\")\n",
    "\n",
    "###Verify that Alpaca key and secret were correctly loaded\n",
    "print(f\"Alpaca Key type: {type(alpaca_api_key)}\")\n",
    "print(f\"Alpaca Secret Key type: {type(alpaca_secret_key)}\")\n",
    "\n",
    "###Use your Alpaca keys to create the Alpaca API object, api_version parameter to v2.\n",
    "alpaca = tradeapi.REST(\n",
    "    alpaca_api_key,\n",
    "    alpaca_secret_key,\n",
    "    api_version=\"v2\")"
   ]
  },
  {
   "cell_type": "code",
   "execution_count": 3,
   "metadata": {},
   "outputs": [
    {
     "data": {
      "text/html": [
       "<div>\n",
       "<style scoped>\n",
       "    .dataframe tbody tr th:only-of-type {\n",
       "        vertical-align: middle;\n",
       "    }\n",
       "\n",
       "    .dataframe tbody tr th {\n",
       "        vertical-align: top;\n",
       "    }\n",
       "\n",
       "    .dataframe thead tr th {\n",
       "        text-align: left;\n",
       "    }\n",
       "</style>\n",
       "<table border=\"1\" class=\"dataframe\">\n",
       "  <thead>\n",
       "    <tr>\n",
       "      <th></th>\n",
       "      <th colspan=\"5\" halign=\"left\">NIO</th>\n",
       "    </tr>\n",
       "    <tr>\n",
       "      <th></th>\n",
       "      <th>open</th>\n",
       "      <th>high</th>\n",
       "      <th>low</th>\n",
       "      <th>close</th>\n",
       "      <th>volume</th>\n",
       "    </tr>\n",
       "  </thead>\n",
       "  <tbody>\n",
       "    <tr>\n",
       "      <th>2018-10-01 00:00:00-04:00</th>\n",
       "      <td>7.06</td>\n",
       "      <td>7.08</td>\n",
       "      <td>6.60</td>\n",
       "      <td>6.6000</td>\n",
       "      <td>15403278</td>\n",
       "    </tr>\n",
       "    <tr>\n",
       "      <th>2018-10-02 00:00:00-04:00</th>\n",
       "      <td>6.60</td>\n",
       "      <td>6.60</td>\n",
       "      <td>5.87</td>\n",
       "      <td>5.9232</td>\n",
       "      <td>18478084</td>\n",
       "    </tr>\n",
       "    <tr>\n",
       "      <th>2018-10-03 00:00:00-04:00</th>\n",
       "      <td>6.12</td>\n",
       "      <td>6.55</td>\n",
       "      <td>6.12</td>\n",
       "      <td>6.2901</td>\n",
       "      <td>12596686</td>\n",
       "    </tr>\n",
       "    <tr>\n",
       "      <th>2018-10-04 00:00:00-04:00</th>\n",
       "      <td>6.19</td>\n",
       "      <td>6.24</td>\n",
       "      <td>6.00</td>\n",
       "      <td>6.2200</td>\n",
       "      <td>11181644</td>\n",
       "    </tr>\n",
       "    <tr>\n",
       "      <th>2018-10-05 00:00:00-04:00</th>\n",
       "      <td>6.20</td>\n",
       "      <td>6.29</td>\n",
       "      <td>6.03</td>\n",
       "      <td>6.2500</td>\n",
       "      <td>7871554</td>\n",
       "    </tr>\n",
       "  </tbody>\n",
       "</table>\n",
       "</div>"
      ],
      "text/plain": [
       "                            NIO                              \n",
       "                           open  high   low   close    volume\n",
       "2018-10-01 00:00:00-04:00  7.06  7.08  6.60  6.6000  15403278\n",
       "2018-10-02 00:00:00-04:00  6.60  6.60  5.87  5.9232  18478084\n",
       "2018-10-03 00:00:00-04:00  6.12  6.55  6.12  6.2901  12596686\n",
       "2018-10-04 00:00:00-04:00  6.19  6.24  6.00  6.2200  11181644\n",
       "2018-10-05 00:00:00-04:00  6.20  6.29  6.03  6.2500   7871554"
      ]
     },
     "execution_count": 3,
     "metadata": {},
     "output_type": "execute_result"
    }
   ],
   "source": [
    "# Set the ticker\n",
    "ticker = \"NIO\"\n",
    "\n",
    "# Set timeframe to '1D'\n",
    "timeframe = \"1D\"\n",
    "\n",
    "# Set start and end datetimes of 3 years from Today\n",
    "start_date = pd.Timestamp(\"2018-09-30\", tz=\"America/New_York\").isoformat()\n",
    "end_date = pd.Timestamp(\"2021-01-01\", tz=\"America/New_York\").isoformat()\n",
    "\n",
    "# Get 3 years worth of historical data for TSLA\n",
    "tesla_ticker = alpaca.get_barset(\n",
    "    ticker,\n",
    "    timeframe,\n",
    "    start=start_date,\n",
    "    end=end_date\n",
    ").df\n",
    "\n",
    "tesla_ticker.head()"
   ]
  },
  {
   "cell_type": "code",
   "execution_count": null,
   "metadata": {},
   "outputs": [],
   "source": []
  }
 ],
 "metadata": {
  "kernelspec": {
   "display_name": "Python 3",
   "language": "python",
   "name": "python3"
  },
  "language_info": {
   "codemirror_mode": {
    "name": "ipython",
    "version": 3
   },
   "file_extension": ".py",
   "mimetype": "text/x-python",
   "name": "python",
   "nbconvert_exporter": "python",
   "pygments_lexer": "ipython3",
   "version": "3.8.3"
  }
 },
 "nbformat": 4,
 "nbformat_minor": 4
}
